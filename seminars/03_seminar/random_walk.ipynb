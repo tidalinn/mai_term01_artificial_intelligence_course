{
 "cells": [
  {
   "cell_type": "code",
   "execution_count": 1,
   "metadata": {},
   "outputs": [],
   "source": [
    "import numpy as np\n",
    "from matplotlib import pyplot as plt"
   ]
  },
  {
   "cell_type": "code",
   "execution_count": 2,
   "metadata": {},
   "outputs": [],
   "source": [
    "n_stories = 1000\n",
    "t_max = 200"
   ]
  },
  {
   "cell_type": "code",
   "execution_count": 14,
   "metadata": {},
   "outputs": [
    {
     "data": {
      "text/plain": [
       "array([-1,  1])"
      ]
     },
     "execution_count": 14,
     "metadata": {},
     "output_type": "execute_result"
    }
   ],
   "source": [
    "t = np.arange(t_max)\n",
    "steps = 2 * np.random.randint(0, 2, (n_stories, t_max)) - 1\n",
    "np.unique(steps)"
   ]
  },
  {
   "cell_type": "code",
   "execution_count": 15,
   "metadata": {},
   "outputs": [
    {
     "data": {
      "text/plain": [
       "array([[ 1, -1, -1, ...,  1, -1,  1],\n",
       "       [-1,  1, -1, ...,  1, -1,  1],\n",
       "       [-1, -1, -1, ..., -1, -1,  1],\n",
       "       ...,\n",
       "       [-1,  1,  1, ...,  1, -1, -1],\n",
       "       [-1,  1,  1, ...,  1,  1, -1],\n",
       "       [ 1, -1,  1, ...,  1,  1,  1]])"
      ]
     },
     "execution_count": 15,
     "metadata": {},
     "output_type": "execute_result"
    }
   ],
   "source": [
    "steps"
   ]
  },
  {
   "cell_type": "code",
   "execution_count": 19,
   "metadata": {},
   "outputs": [],
   "source": [
    "positions = np.cumsum(steps, axis=1)\n",
    "sq_distance = positions ** 2\n",
    "mean_sq_distance = np.mean(sq_distance, axis=0)\n",
    "sqrt_mean = np.sqrt(mean_sq_distance)"
   ]
  },
  {
   "cell_type": "code",
   "execution_count": 17,
   "metadata": {},
   "outputs": [
    {
     "data": {
      "text/plain": [
       "array([[  1,   0,  -1, ...,  -4,  -5,  -4],\n",
       "       [ -1,   0,  -1, ..., -10, -11, -10],\n",
       "       [ -1,  -2,  -3, ...,  -4,  -5,  -4],\n",
       "       ...,\n",
       "       [ -1,   0,   1, ...,   8,   7,   6],\n",
       "       [ -1,   0,   1, ...,  14,  15,  14],\n",
       "       [  1,   0,   1, ...,  32,  33,  34]], dtype=int32)"
      ]
     },
     "execution_count": 17,
     "metadata": {},
     "output_type": "execute_result"
    }
   ],
   "source": [
    "positions"
   ]
  },
  {
   "cell_type": "code",
   "execution_count": 18,
   "metadata": {},
   "outputs": [
    {
     "data": {
      "text/plain": [
       "array([[   1,    0,    1, ...,   16,   25,   16],\n",
       "       [   1,    0,    1, ...,  100,  121,  100],\n",
       "       [   1,    4,    9, ...,   16,   25,   16],\n",
       "       ...,\n",
       "       [   1,    0,    1, ...,   64,   49,   36],\n",
       "       [   1,    0,    1, ...,  196,  225,  196],\n",
       "       [   1,    0,    1, ..., 1024, 1089, 1156]], dtype=int32)"
      ]
     },
     "execution_count": 18,
     "metadata": {},
     "output_type": "execute_result"
    }
   ],
   "source": [
    "sq_distance"
   ]
  },
  {
   "cell_type": "code",
   "execution_count": 13,
   "metadata": {},
   "outputs": [
    {
     "data": {
      "text/plain": [
       "array([  1.   ,   1.984,   2.904,   3.852,   4.944,   5.784,   7.04 ,\n",
       "         7.988,   9.184,  10.108,  11.272,  12.364,  13.488,  14.344,\n",
       "        15.504,  16.352,  17.48 ,  18.1  ,  19.128,  19.852,  21.536,\n",
       "        22.86 ,  23.784,  24.536,  26.176,  27.432,  28.888,  30.336,\n",
       "        31.592,  32.456,  33.424,  34.996,  36.16 ,  36.932,  38.32 ,\n",
       "        39.344,  40.352,  41.5  ,  42.504,  43.748,  44.816,  46.024,\n",
       "        46.352,  47.636,  47.488,  47.76 ,  49.408,  49.884,  50.392,\n",
       "        51.764,  52.696,  53.912,  54.752,  56.036,  57.088,  58.836,\n",
       "        60.16 ,  61.644,  64.024,  64.624,  65.392,  65.536,  66.792,\n",
       "        67.736,  68.4  ,  69.964,  72.16 ,  72.976,  74.536,  76.36 ,\n",
       "        78.176,  79.316,  80.296,  81.62 ,  83.096,  83.64 ,  85.168,\n",
       "        85.9  ,  85.568,  86.28 ,  86.728,  86.8  ,  87.2  ,  88.072,\n",
       "        88.224,  89.32 ,  91.056,  93.056,  94.128,  94.932,  95.856,\n",
       "        96.948,  99.16 , 101.676, 101.224, 102.196, 103.232, 103.992,\n",
       "       104.72 , 105.844, 106.768, 107.988, 108.056, 108.976, 109.832,\n",
       "       110.176, 111.448, 112.06 , 113.544, 113.848, 115.2  , 114.816,\n",
       "       115.592, 115.588, 118.272, 117.436, 120.448, 121.208, 122.568,\n",
       "       124.472, 125.944, 125.728, 127.392, 127.9  , 129.264, 130.3  ,\n",
       "       129.896, 130.796, 131.464, 132.292, 134.952, 136.292, 136.88 ,\n",
       "       138.856, 139.752, 141.372, 142.528, 143.24 , 144.304, 145.332,\n",
       "       146.912, 148.008, 147.744, 149.188, 151.384, 151.328, 153.384,\n",
       "       155.992, 156.28 , 156.812, 156.928, 157.676, 157.288, 156.824,\n",
       "       159.392, 159.924, 160.232, 161.4  , 163.944, 165.288, 167.544,\n",
       "       168.676, 171.144, 171.268, 170.048, 170.572, 171.712, 171.996,\n",
       "       173.   , 174.384, 175.696, 176.532, 178.456, 180.22 , 180.84 ,\n",
       "       180.508, 182.568, 183.624, 185.712, 185.924, 185.952, 186.524,\n",
       "       187.48 , 189.024, 191.44 , 192.184, 192.872, 193.64 , 195.184,\n",
       "       195.612, 196.304, 199.088, 200.688, 201.932, 203.704, 204.696,\n",
       "       207.232, 208.76 , 208.376, 210.6  ])"
      ]
     },
     "execution_count": 13,
     "metadata": {},
     "output_type": "execute_result"
    }
   ],
   "source": [
    "mean_sq_distance"
   ]
  },
  {
   "cell_type": "code",
   "execution_count": 20,
   "metadata": {},
   "outputs": [
    {
     "data": {
      "text/plain": [
       "array([ 1.        ,  1.4       ,  1.71113997,  1.99298771,  2.21449769,\n",
       "        2.48032256,  2.65329983,  2.8418304 ,  2.99866637,  3.1394267 ,\n",
       "        3.29241553,  3.4739027 ,  3.60555128,  3.72451339,  3.89358447,\n",
       "        4.        ,  4.16461283,  4.24829378,  4.37081228,  4.51043235,\n",
       "        4.57646152,  4.63465209,  4.76067222,  4.81912855,  4.90224438,\n",
       "        5.01717052,  5.11781203,  5.16255751,  5.24061065,  5.34677473,\n",
       "        5.48671122,  5.60178543,  5.71454285,  5.86992334,  5.93161024,\n",
       "        6.03390421,  6.08802102,  6.12927402,  6.22768015,  6.30555311,\n",
       "        6.38372932,  6.47240295,  6.57632116,  6.68430999,  6.76402247,\n",
       "        6.83725091,  6.90854543,  7.01427117,  7.12011236,  7.19555418,\n",
       "        7.27956043,  7.40135123,  7.51052595,  7.51505156,  7.51638211,\n",
       "        7.57891813,  7.65976501,  7.73821685,  7.79794845,  7.81332196,\n",
       "        7.84754739,  7.90189851,  7.99299693,  8.08009901,  8.15548895,\n",
       "        8.23431843,  8.33114638,  8.34601701,  8.4304211 ,  8.45032544,\n",
       "        8.49423334,  8.53814968,  8.63156996,  8.71045349,  8.81680214,\n",
       "        8.90595307,  8.99688835,  9.09219445,  9.17823512,  9.25181063,\n",
       "        9.30376268,  9.39553085,  9.46445984,  9.49146985,  9.55866099,\n",
       "        9.60895416,  9.64945594,  9.6968036 ,  9.73200904,  9.75684375,\n",
       "        9.79673415,  9.8488578 ,  9.85373026,  9.93398208,  9.98038075,\n",
       "       10.02157672, 10.05465067, 10.10148504, 10.12798104, 10.2407031 ,\n",
       "       10.29796096, 10.33692411, 10.38884017, 10.42535371, 10.46709129,\n",
       "       10.54077796, 10.59811304, 10.61715593, 10.64856798, 10.72138051,\n",
       "       10.74839523, 10.79110745, 10.7974071 , 10.81868754, 10.86683026,\n",
       "       10.92757979, 10.92043955, 10.92666463, 10.96795332, 10.96266391,\n",
       "       10.98253158, 11.07032068, 11.12618533, 11.14253113, 11.17103397,\n",
       "       11.15831529, 11.27439577, 11.32413352, 11.37717012, 11.46908889,\n",
       "       11.51485996, 11.49573834, 11.59448145, 11.56511997, 11.62273634,\n",
       "       11.62153174, 11.62961736, 11.61981067, 11.62996131, 11.66138928,\n",
       "       11.73950595, 11.77947367, 11.84364809, 11.87973064, 11.90294081,\n",
       "       12.0226453 , 12.02963009, 12.01349241, 12.10586635, 12.15746684,\n",
       "       12.19212861, 12.27175619, 12.29764205, 12.32834133, 12.32623219,\n",
       "       12.39290119, 12.43221621, 12.51814683, 12.53602808, 12.56678161,\n",
       "       12.58602399, 12.62505446, 12.62061805, 12.73671857, 12.7467643 ,\n",
       "       12.7533525 , 12.78217509, 12.82840598, 12.87198508, 12.85348202,\n",
       "       12.87198508, 12.92191936, 13.00399938, 13.04653211, 13.0944263 ,\n",
       "       13.11868896, 13.1072499 , 13.16206671, 13.1565953 , 13.19696935,\n",
       "       13.23812676, 13.24447054, 13.30353337, 13.32891593, 13.34166406,\n",
       "       13.39298324, 13.45629964, 13.45689414, 13.52479205, 13.5808689 ,\n",
       "       13.64873621, 13.71524699, 13.77592102, 13.81984081, 13.87458107,\n",
       "       13.92091951, 13.98170233, 14.02383685, 14.04848746, 14.16192077])"
      ]
     },
     "execution_count": 20,
     "metadata": {},
     "output_type": "execute_result"
    }
   ],
   "source": [
    "sqrt_mean"
   ]
  },
  {
   "cell_type": "code",
   "execution_count": 21,
   "metadata": {},
   "outputs": [
    {
     "data": {
      "image/png": "[encoded data removed]",
      "text/plain": [
       "<Figure size 432x288 with 1 Axes>"
      ]
     },
     "metadata": {
      "needs_background": "light"
     },
     "output_type": "display_data"
    }
   ],
   "source": [
    "# В Броунском движении направление скачка равновероятно\n",
    "plt.plot(t, sqrt_mean)\n",
    "plt.show() # resembles y = sqrt(x)"
   ]
  },
  {
   "cell_type": "code",
   "execution_count": null,
   "metadata": {},
   "outputs": [],
   "source": []
  }
 ],
 "metadata": {
  "kernelspec": {
   "display_name": "Python 3.9.6 64-bit",
   "language": "python",
   "name": "python3"
  },
  "language_info": {
   "codemirror_mode": {
    "name": "ipython",
    "version": 3
   },
   "file_extension": ".py",
   "mimetype": "text/x-python",
   "name": "python",
   "nbconvert_exporter": "python",
   "pygments_lexer": "ipython3",
   "version": "3.9.6"
  },
  "orig_nbformat": 4,
  "vscode": {
   "interpreter": {
    "hash": "81794d4967e6c3204c66dcd87b604927b115b27c00565d3d43f05ba2f3a2cb0d"
   }
  }
 },
 "nbformat": 4,
 "nbformat_minor": 2
}
