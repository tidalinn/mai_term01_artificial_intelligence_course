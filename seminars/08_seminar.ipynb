{
  "nbformat": 4,
  "nbformat_minor": 0,
  "metadata": {
    "colab": {
      "provenance": []
    },
    "kernelspec": {
      "name": "python3",
      "display_name": "Python 3"
    },
    "language_info": {
      "name": "python"
    }
  },
  "cells": [
    {
      "cell_type": "code",
      "execution_count": null,
      "metadata": {
        "id": "SfW2e6ymxDh3"
      },
      "outputs": [],
      "source": [
        "import pandas as pd\n",
        "import numpy as np\n",
        "import random as rd\n",
        "from sklearn.decomposition import PCA\n",
        "from sklearn import preprocessing\n",
        "import matplotlib.pyplot as plt\n"
      ]
    },
    {
      "cell_type": "code",
      "source": [
        "pip install pandas"
      ],
      "metadata": {
        "id": "HbCNp4jxxKLz"
      },
      "execution_count": null,
      "outputs": []
    },
    {
      "cell_type": "code",
      "source": [
        "genes = ['gene' + str(i) for i in range(1, 101)]\n",
        "wt = ['wt' + str(i) for i in range(1, 6)]\n",
        "ko = ['ko' + str(i) for i in range (1,6)]\n",
        "data = pd.DataFrame(columns = [*wt, *ko], index =genes) #распаковка, * делает один массив из 10 эелементов а не 2 по 5 \n",
        "# пустой датафрейм с генами "
      ],
      "metadata": {
        "id": "QUVE4zxzxuKZ"
      },
      "execution_count": null,
      "outputs": []
    },
    {
      "cell_type": "code",
      "source": [
        "for gene in data.index: #заполняем датафрейм\n",
        "  data.loc[gene, 'wt1':'wt5']=np.random.poisson(lam=rd.randrange(10, 1000), size =5)  #локирует по датафрейму в конкретному месту, в датасете локирует место по индексу(названию) строки\n",
        "  data.loc[gene, 'ko1':'ko5']=np.random.poisson(lam=rd.randrange(10, 1000), size =5)"
      ],
      "metadata": {
        "id": "LD02ogNeyl3q"
      },
      "execution_count": null,
      "outputs": []
    },
    {
      "cell_type": "code",
      "source": [
        "data"
      ],
      "metadata": {
        "id": "RUli8HGP1zbZ"
      },
      "execution_count": null,
      "outputs": []
    },
    {
      "cell_type": "code",
      "source": [
        "data.head()"
      ],
      "metadata": {
        "colab": {
          "base_uri": "https://localhost:8080/",
          "height": 206
        },
        "id": "Ik4oX3_pzMy1",
        "outputId": "16066314-66f6-4239-80f6-391ac2ea1305"
      },
      "execution_count": null,
      "outputs": [
        {
          "output_type": "execute_result",
          "data": {
            "text/plain": [
              "       wt1  wt2  wt3  wt4  wt5  ko1  ko2  ko3   ko4  ko5\n",
              "gene1  503  508  506  534  495  434  402  428   466  452\n",
              "gene2  391  408  418  426  436  828  794  790   791  799\n",
              "gene3  702  648  734  638  708  786  803  812   817  822\n",
              "gene4  879  867  826  824  845  255  296  294   275  273\n",
              "gene5  147  159  155  149  144  957  930  964  1013  905"
            ],
            "text/html": [
              "\n",
              "  <div id=\"df-3a5e21bd-4397-4745-8a4c-f5b92f4df316\">\n",
              "    <div class=\"colab-df-container\">\n",
              "      <div>\n",
              "<style scoped>\n",
              "    .dataframe tbody tr th:only-of-type {\n",
              "        vertical-align: middle;\n",
              "    }\n",
              "\n",
              "    .dataframe tbody tr th {\n",
              "        vertical-align: top;\n",
              "    }\n",
              "\n",
              "    .dataframe thead th {\n",
              "        text-align: right;\n",
              "    }\n",
              "</style>\n",
              "<table border=\"1\" class=\"dataframe\">\n",
              "  <thead>\n",
              "    <tr style=\"text-align: right;\">\n",
              "      <th></th>\n",
              "      <th>wt1</th>\n",
              "      <th>wt2</th>\n",
              "      <th>wt3</th>\n",
              "      <th>wt4</th>\n",
              "      <th>wt5</th>\n",
              "      <th>ko1</th>\n",
              "      <th>ko2</th>\n",
              "      <th>ko3</th>\n",
              "      <th>ko4</th>\n",
              "      <th>ko5</th>\n",
              "    </tr>\n",
              "  </thead>\n",
              "  <tbody>\n",
              "    <tr>\n",
              "      <th>gene1</th>\n",
              "      <td>503</td>\n",
              "      <td>508</td>\n",
              "      <td>506</td>\n",
              "      <td>534</td>\n",
              "      <td>495</td>\n",
              "      <td>434</td>\n",
              "      <td>402</td>\n",
              "      <td>428</td>\n",
              "      <td>466</td>\n",
              "      <td>452</td>\n",
              "    </tr>\n",
              "    <tr>\n",
              "      <th>gene2</th>\n",
              "      <td>391</td>\n",
              "      <td>408</td>\n",
              "      <td>418</td>\n",
              "      <td>426</td>\n",
              "      <td>436</td>\n",
              "      <td>828</td>\n",
              "      <td>794</td>\n",
              "      <td>790</td>\n",
              "      <td>791</td>\n",
              "      <td>799</td>\n",
              "    </tr>\n",
              "    <tr>\n",
              "      <th>gene3</th>\n",
              "      <td>702</td>\n",
              "      <td>648</td>\n",
              "      <td>734</td>\n",
              "      <td>638</td>\n",
              "      <td>708</td>\n",
              "      <td>786</td>\n",
              "      <td>803</td>\n",
              "      <td>812</td>\n",
              "      <td>817</td>\n",
              "      <td>822</td>\n",
              "    </tr>\n",
              "    <tr>\n",
              "      <th>gene4</th>\n",
              "      <td>879</td>\n",
              "      <td>867</td>\n",
              "      <td>826</td>\n",
              "      <td>824</td>\n",
              "      <td>845</td>\n",
              "      <td>255</td>\n",
              "      <td>296</td>\n",
              "      <td>294</td>\n",
              "      <td>275</td>\n",
              "      <td>273</td>\n",
              "    </tr>\n",
              "    <tr>\n",
              "      <th>gene5</th>\n",
              "      <td>147</td>\n",
              "      <td>159</td>\n",
              "      <td>155</td>\n",
              "      <td>149</td>\n",
              "      <td>144</td>\n",
              "      <td>957</td>\n",
              "      <td>930</td>\n",
              "      <td>964</td>\n",
              "      <td>1013</td>\n",
              "      <td>905</td>\n",
              "    </tr>\n",
              "  </tbody>\n",
              "</table>\n",
              "</div>\n",
              "      <button class=\"colab-df-convert\" onclick=\"convertToInteractive('df-3a5e21bd-4397-4745-8a4c-f5b92f4df316')\"\n",
              "              title=\"Convert this dataframe to an interactive table.\"\n",
              "              style=\"display:none;\">\n",
              "        \n",
              "  <svg xmlns=\"http://www.w3.org/2000/svg\" height=\"24px\"viewBox=\"0 0 24 24\"\n",
              "       width=\"24px\">\n",
              "    <path d=\"M0 0h24v24H0V0z\" fill=\"none\"/>\n",
              "    <path d=\"M18.56 5.44l.94 2.06.94-2.06 2.06-.94-2.06-.94-.94-2.06-.94 2.06-2.06.94zm-11 1L8.5 8.5l.94-2.06 2.06-.94-2.06-.94L8.5 2.5l-.94 2.06-2.06.94zm10 10l.94 2.06.94-2.06 2.06-.94-2.06-.94-.94-2.06-.94 2.06-2.06.94z\"/><path d=\"M17.41 7.96l-1.37-1.37c-.4-.4-.92-.59-1.43-.59-.52 0-1.04.2-1.43.59L10.3 9.45l-7.72 7.72c-.78.78-.78 2.05 0 2.83L4 21.41c.39.39.9.59 1.41.59.51 0 1.02-.2 1.41-.59l7.78-7.78 2.81-2.81c.8-.78.8-2.07 0-2.86zM5.41 20L4 18.59l7.72-7.72 1.47 1.35L5.41 20z\"/>\n",
              "  </svg>\n",
              "      </button>\n",
              "      \n",
              "  <style>\n",
              "    .colab-df-container {\n",
              "      display:flex;\n",
              "      flex-wrap:wrap;\n",
              "      gap: 12px;\n",
              "    }\n",
              "\n",
              "    .colab-df-convert {\n",
              "      background-color: #E8F0FE;\n",
              "      border: none;\n",
              "      border-radius: 50%;\n",
              "      cursor: pointer;\n",
              "      display: none;\n",
              "      fill: #1967D2;\n",
              "      height: 32px;\n",
              "      padding: 0 0 0 0;\n",
              "      width: 32px;\n",
              "    }\n",
              "\n",
              "    .colab-df-convert:hover {\n",
              "      background-color: #E2EBFA;\n",
              "      box-shadow: 0px 1px 2px rgba(60, 64, 67, 0.3), 0px 1px 3px 1px rgba(60, 64, 67, 0.15);\n",
              "      fill: #174EA6;\n",
              "    }\n",
              "\n",
              "    [theme=dark] .colab-df-convert {\n",
              "      background-color: #3B4455;\n",
              "      fill: #D2E3FC;\n",
              "    }\n",
              "\n",
              "    [theme=dark] .colab-df-convert:hover {\n",
              "      background-color: #434B5C;\n",
              "      box-shadow: 0px 1px 3px 1px rgba(0, 0, 0, 0.15);\n",
              "      filter: drop-shadow(0px 1px 2px rgba(0, 0, 0, 0.3));\n",
              "      fill: #FFFFFF;\n",
              "    }\n",
              "  </style>\n",
              "\n",
              "      <script>\n",
              "        const buttonEl =\n",
              "          document.querySelector('#df-3a5e21bd-4397-4745-8a4c-f5b92f4df316 button.colab-df-convert');\n",
              "        buttonEl.style.display =\n",
              "          google.colab.kernel.accessAllowed ? 'block' : 'none';\n",
              "\n",
              "        async function convertToInteractive(key) {\n",
              "          const element = document.querySelector('#df-3a5e21bd-4397-4745-8a4c-f5b92f4df316');\n",
              "          const dataTable =\n",
              "            await google.colab.kernel.invokeFunction('convertToInteractive',\n",
              "                                                     [key], {});\n",
              "          if (!dataTable) return;\n",
              "\n",
              "          const docLinkHtml = 'Like what you see? Visit the ' +\n",
              "            '<a target=\"_blank\" href=https://colab.research.google.com/notebooks/data_table.ipynb>data table notebook</a>'\n",
              "            + ' to learn more about interactive tables.';\n",
              "          element.innerHTML = '';\n",
              "          dataTable['output_type'] = 'display_data';\n",
              "          await google.colab.output.renderOutput(dataTable, element);\n",
              "          const docLink = document.createElement('div');\n",
              "          docLink.innerHTML = docLinkHtml;\n",
              "          element.appendChild(docLink);\n",
              "        }\n",
              "      </script>\n",
              "    </div>\n",
              "  </div>\n",
              "  "
            ]
          },
          "metadata": {},
          "execution_count": 29
        }
      ]
    },
    {
      "cell_type": "code",
      "source": [
        "scaled_data = preprocessing.scale(data.T)"
      ],
      "metadata": {
        "id": "Mkn5W9CW0VoO"
      },
      "execution_count": null,
      "outputs": []
    },
    {
      "cell_type": "code",
      "source": [
        "pca = PCA() #не указано количетсво пса, авт выбран минимум между мин фичей и мин компонентов"
      ],
      "metadata": {
        "id": "2nMuH_eK1dll"
      },
      "execution_count": null,
      "outputs": []
    },
    {
      "cell_type": "code",
      "source": [
        "pca.fit(scaled_data) # фит поворот и сдвиг "
      ],
      "metadata": {
        "colab": {
          "base_uri": "https://localhost:8080/"
        },
        "id": "wD1UR-F22dj1",
        "outputId": "b5bcf8f0-362e-4e91-dad4-20d4731bd91c"
      },
      "execution_count": null,
      "outputs": [
        {
          "output_type": "execute_result",
          "data": {
            "text/plain": [
              "PCA()"
            ]
          },
          "metadata": {},
          "execution_count": 33
        }
      ]
    },
    {
      "cell_type": "code",
      "source": [
        "pca_data = pca.transform(scaled_data) # трнасформ понизил размерность, получ уже спроец данные"
      ],
      "metadata": {
        "id": "k8bcUzE42iM8"
      },
      "execution_count": null,
      "outputs": []
    },
    {
      "cell_type": "code",
      "source": [
        "scaled_data.shape #было размерность"
      ],
      "metadata": {
        "colab": {
          "base_uri": "https://localhost:8080/"
        },
        "id": "HIANUeG02zDO",
        "outputId": "69656050-8494-4630-a9e2-8b9ba9edbc8f"
      },
      "execution_count": null,
      "outputs": [
        {
          "output_type": "execute_result",
          "data": {
            "text/plain": [
              "(10, 100)"
            ]
          },
          "metadata": {},
          "execution_count": 38
        }
      ]
    },
    {
      "cell_type": "code",
      "source": [
        "pca_data.shape #стало"
      ],
      "metadata": {
        "colab": {
          "base_uri": "https://localhost:8080/"
        },
        "id": "yUgQsfei2n4y",
        "outputId": "15fd679f-314f-4166-d756-29bbde2986a9"
      },
      "execution_count": null,
      "outputs": [
        {
          "output_type": "execute_result",
          "data": {
            "text/plain": [
              "(10, 10)"
            ]
          },
          "metadata": {},
          "execution_count": 37
        }
      ]
    },
    {
      "cell_type": "code",
      "source": [
        "per_var = np.round(pca.explained_variance_ratio_ *100, decimals=1) #EVR показывает колько на себя каждая компонента берет разброса\n",
        "labels = ['PC' + str(x) for x in range (1,  len(per_var)+1)]\n",
        "#сумм дисперсия всех компонент = сумм дисперсия исх данных"
      ],
      "metadata": {
        "id": "-B6b9Zf-2q8P"
      },
      "execution_count": null,
      "outputs": []
    },
    {
      "cell_type": "code",
      "source": [
        "plt.bar(x=range(1, len(per_var)+1), height=per_var, tick_label = labels) #график\n",
        "plt.ylabel('Percentage of Explained variance')\n",
        "plt.xlabel(' Principal component')\n",
        "plt.title('Scree Plot')\n",
        "plt.show() #по графику видно что 1 компонента самая информативная тк у нее больше всего разброса"
      ],
      "metadata": {
        "colab": {
          "base_uri": "https://localhost:8080/",
          "height": 295
        },
        "id": "-_pbRppx3Vtw",
        "outputId": "679179e5-ad74-4352-d073-6444ae0e2866"
      },
      "execution_count": null,
      "outputs": [
        {
          "output_type": "display_data",
          "data": {
            "text/plain": [
              "<Figure size 432x288 with 1 Axes>"
            ],
            "image/png": "[encoded data removed]"
          },
          "metadata": {
            "needs_background": "light"
          }
        }
      ]
    },
    {
      "cell_type": "code",
      "source": [],
      "metadata": {
        "id": "U4t60Mw05lxn"
      },
      "execution_count": null,
      "outputs": []
    }
  ]
}