{
 "cells": [
  {
   "cell_type": "markdown",
   "id": "fa332e70",
   "metadata": {},
   "source": [
    "<h1>Содержание<span class=\"tocSkip\"></span></h1>\n",
    "<br>\n",
    "<div class=\"toc\">\n",
    "    <ul class=\"toc-item\">\n",
    "        <li>\n",
    "            <span>\n",
    "                <a href=\"#1.-Импорт-библиотек\">\n",
    "                    <span class=\"toc-item-num\">1.&nbsp;&nbsp;</span>\n",
    "                    Импорт библиотек\n",
    "                </a>\n",
    "            </span>\n",
    "        </li>\n",
    "        <li>\n",
    "            <span>\n",
    "                <a href=\"#2.-Постановка-задачи\">\n",
    "                    <span class=\"toc-item-num\">2.&nbsp;&nbsp;</span>\n",
    "                    Постановка задачи\n",
    "                </a>\n",
    "            </span>\n",
    "        </li>\n",
    "        <li style=\"margin-top: 10px\">\n",
    "            <span>\n",
    "                <a href=\"#3.-Построение-модели\">\n",
    "                    <span class=\"toc-item-num\">3.&nbsp;&nbsp;</span>\n",
    "                    Построение модели\n",
    "                </a>\n",
    "            </span>\n",
    "            <ul class=\"toc-item\">\n",
    "                <li>\n",
    "                    <span>\n",
    "                        <a href=\"#3.1.-Загрузка-набора-данных\">\n",
    "                            <span class=\"toc-item-num\">3.1.&nbsp;&nbsp;</span>\n",
    "                            Загрузка набора данных\n",
    "                        </a>\n",
    "                    </span>\n",
    "                </li>\n",
    "                <li>\n",
    "                    <span>\n",
    "                        <a href=\"#3.2.-Визуализация-данных\">\n",
    "                            <span class=\"toc-item-num\">3.2.&nbsp;&nbsp;</span>\n",
    "                            Визуализация данных\n",
    "                        </a>\n",
    "                    </span>\n",
    "                </li>\n",
    "                <li>\n",
    "                    <span>\n",
    "                        <a href=\"#3.3.-Построение-нейросетевой-модели\">\n",
    "                            <span class=\"toc-item-num\">3.3.&nbsp;&nbsp;</span>\n",
    "                            Построение нейросетевой модели\n",
    "                        </a>\n",
    "                    </span>\n",
    "                </li>\n",
    "                <li>\n",
    "                    <span>\n",
    "                        <a href=\"#3.4.-Обучение-модели\">\n",
    "                            <span class=\"toc-item-num\">3.4.&nbsp;&nbsp;</span>\n",
    "                            Обучение модели\n",
    "                        </a>\n",
    "                    </span>\n",
    "                </li>\n",
    "                <li>\n",
    "                    <span>\n",
    "                        <a href=\"#3.5.-Ансаблевое-голосование\">\n",
    "                            <span class=\"toc-item-num\">3.5.&nbsp;&nbsp;</span>\n",
    "                            Ансаблевое голосование\n",
    "                        </a>\n",
    "                    </span>\n",
    "                </li>\n",
    "            </ul>\n",
    "        </li>\n",
    "        <li style=\"margin-top: 10px\">\n",
    "            <span>\n",
    "                <a href=\"#4.-Общий-вывод\">\n",
    "                    <span class=\"toc-item-num\">4.&nbsp;&nbsp;</span>\n",
    "                    Общий вывод\n",
    "                </a>\n",
    "            </span>\n",
    "        </li>\n",
    "    </ul>\n",
    "</div>"
   ]
  },
  {
   "cell_type": "markdown",
   "id": "4eef7892",
   "metadata": {},
   "source": [
    "# Курсовая работа №1: MPI + PyTorch"
   ]
  },
  {
   "cell_type": "markdown",
   "id": "7152c65e",
   "metadata": {},
   "source": [
    "**Задача:** совместить MPI и Pytorch: используя ресурсы своего компьютера, кинуть на каждое ядро простую готовую сеть на Pytorch, получить результаты с разных ядер и сделать ансамблевое голосование.\n",
    "\n",
    "**Источники данных:** MNIST ([HuggingFace](https://huggingface.co/datasets/mnist)).\n",
    "\n",
    "**Описание данных:** набор данных хранит образцы написания рукописных цифр."
   ]
  },
  {
   "cell_type": "markdown",
   "id": "124bfaa8",
   "metadata": {},
   "source": [
    "<div style=\"height: 2px; background-color: blue; margin: 10px 0;\"></div>"
   ]
  },
  {
   "cell_type": "markdown",
   "id": "31b84b8e",
   "metadata": {},
   "source": [
    "## 1. Импорт библиотек"
   ]
  },
  {
   "cell_type": "code",
   "execution_count": 1,
   "id": "b5d88eda",
   "metadata": {},
   "outputs": [],
   "source": [
    "from datasets import load_dataset\n",
    "\n",
    "import pandas as pd\n",
    "import numpy as np\n",
    "import matplotlib.pyplot as plt\n",
    "\n",
    "import torch\n",
    "import torch.nn as nn\n",
    "import torch.nn.functional as F\n",
    "import torch.optim as optim\n",
    "import torch.utils.data as data\n",
    "import torch.distributed as dist\n",
    "import torch.utils.data as data_utils\n",
    "from torch.multiprocessing import Process\n",
    "\n",
    "from sklearn.ensemble import BaggingClassifier\n",
    "\n",
    "import torchvision"
   ]
  },
  {
   "cell_type": "markdown",
   "id": "82b178ad",
   "metadata": {},
   "source": [
    "<div style=\"height: 2px; background-color: blue; margin: 10px 0;\"></div>"
   ]
  },
  {
   "cell_type": "markdown",
   "id": "fa8dad6d",
   "metadata": {},
   "source": [
    "## 2. Постановка задачи"
   ]
  },
  {
   "cell_type": "markdown",
   "id": "91c39da0",
   "metadata": {},
   "source": [
    "Необходимо написать MPI-программу, которая будет раздавать нескольким ядрам задачи и собирать с них результаты произведённых вычислений с помощью ансамблевого голосования.\n",
    "\n",
    ">**MPI-программа** - это множество параллельных взаимодействующих процессов, которые работают каждый в своей выделенной области памяти.\n",
    ">\n",
    ">**MPI** (Message Passing Interface) - 1) стандарт в параллельных вычислениях с распределённой памятью; 2) программный интерфейс (API) для передачи информации, который позволяет обмениваться сообщениями между процессами, выполняющими одну задачу.\n",
    ">\n",
    ">**Ансамблирование моделей** (ансамблевое голосование) – использование нескольких моделей вместо одной и объединение их предсказаний (за счёт учёта опыта всех моделей такой подход позволяет уменьшить ошибки).\n",
    "\n",
    "Задача будет представлять собой классификацию средствами Pytorch набора данных MNIST."
   ]
  },
  {
   "cell_type": "markdown",
   "id": "011ff40b",
   "metadata": {},
   "source": [
    "Шаги воспроизведения решения задачи:\n",
    "\n",
    "1. Написать загрузчик датасета\n",
    "2. Написать разделитель датасета\n",
    "3. Сформировать тренировочную и тестовую выборки\n",
    "4. Отправить на разные ядра разные же части этих выборок\n",
    "5. Получить результаты и объединить их"
   ]
  },
  {
   "cell_type": "markdown",
   "id": "ff12028a",
   "metadata": {},
   "source": [
    "<div style=\"height: 2px; background-color: blue; margin: 10px 0;\"></div>"
   ]
  },
  {
   "cell_type": "markdown",
   "id": "feb8524d",
   "metadata": {},
   "source": [
    "## 3. Построение модели"
   ]
  },
  {
   "cell_type": "markdown",
   "id": "b14557ba",
   "metadata": {},
   "source": []
  },
  {
   "cell_type": "code",
   "execution_count": 2,
   "id": "0f9cc8c9",
   "metadata": {},
   "outputs": [
    {
     "data": {
      "text/plain": [
       "<torch._C.Generator at 0x2dd5e83a7b0>"
      ]
     },
     "execution_count": 2,
     "metadata": {},
     "output_type": "execute_result"
    }
   ],
   "source": [
    "random_seed = 1\n",
    "torch.backends.cudnn.enabled = False\n",
    "torch.manual_seed(random_seed)"
   ]
  },
  {
   "cell_type": "markdown",
   "id": "f83b9c29",
   "metadata": {},
   "source": [
    "<div style=\"height: 2px; background-color: blue; margin: 10px 0; opacity: 0.2\"></div>"
   ]
  },
  {
   "cell_type": "markdown",
   "id": "e5a8753f",
   "metadata": {},
   "source": [
    "### 3.1. Загрузка набора данных"
   ]
  },
  {
   "cell_type": "markdown",
   "id": "7ed5b9fc",
   "metadata": {},
   "source": [
    "Задание функции загрузки набора данных MNIST:"
   ]
  },
  {
   "cell_type": "code",
   "execution_count": 3,
   "id": "8860a615",
   "metadata": {},
   "outputs": [],
   "source": [
    "def mnist_dataloader(train: bool = True, \n",
    "                     batch_size: int = 64):\n",
    "    \n",
    "    \"\"\"Dataloader of the MNIST dataset\n",
    "       \n",
    "       Args:\n",
    "           train (bool, optional): train of test. Defaults to True\n",
    "           batch_size (int, optional): batch size. Defaults to 64\n",
    "       \n",
    "       Return:\n",
    "           Loaded MNIST dataset\n",
    "    \"\"\"\n",
    "    \n",
    "    return data.DataLoader(\n",
    "               torchvision.datasets.MNIST(\"./\", \n",
    "                   train=train, \n",
    "                   download=True, \n",
    "                   transform=torchvision.transforms.Compose([\n",
    "                       torchvision.transforms.ToTensor(),\n",
    "                       torchvision.transforms.Normalize((0.1307,), (0.3081,))])),\n",
    "                   shuffle=True,\n",
    "                   num_workers=1,\n",
    "                   batch_size=batch_size)"
   ]
  },
  {
   "cell_type": "markdown",
   "id": "cec777bc",
   "metadata": {},
   "source": [
    "Ссылка на python-файл: [mnist_dataloader.py](https://github.com/tidalinn/mai_term01_artificial_intelligence_course/coursework_mpi_01/mnist_dataloader.py)."
   ]
  },
  {
   "cell_type": "markdown",
   "id": "3efddce7",
   "metadata": {},
   "source": [
    "Определение тренировочного и тестового датасетов:"
   ]
  },
  {
   "cell_type": "code",
   "execution_count": 4,
   "id": "9c9916d3",
   "metadata": {
    "scrolled": false
   },
   "outputs": [
    {
     "name": "stderr",
     "output_type": "stream",
     "text": [
      "c:\\python39\\lib\\site-packages\\torchvision\\datasets\\mnist.py:498: UserWarning: The given NumPy array is not writeable, and PyTorch does not support non-writeable tensors. This means you can write to the underlying (supposedly non-writeable) NumPy array using the tensor. You may want to copy the array to protect its data or make it writeable before converting it to a tensor. This type of warning will be suppressed for the rest of this program. (Triggered internally at  ..\\torch\\csrc\\utils\\tensor_numpy.cpp:180.)\n",
      "  return torch.from_numpy(parsed.astype(m[2], copy=False)).view(*s)\n"
     ]
    }
   ],
   "source": [
    "train_mnist = mnist_dataloader()\n",
    "test_mnist = mnist_dataloader(False)"
   ]
  },
  {
   "cell_type": "markdown",
   "id": "2ad0ded3",
   "metadata": {},
   "source": [
    "<div style=\"height: 2px; background-color: blue; margin: 10px 0; opacity: 0.2\"></div>"
   ]
  },
  {
   "cell_type": "markdown",
   "id": "e4269e13",
   "metadata": {},
   "source": [
    "### 3.2. Визуализация данных"
   ]
  },
  {
   "cell_type": "markdown",
   "id": "d7ed54be",
   "metadata": {},
   "source": [
    "Сохранение тестового набора данных:"
   ]
  },
  {
   "cell_type": "code",
   "execution_count": 5,
   "id": "c2213c64",
   "metadata": {},
   "outputs": [],
   "source": [
    "examples = enumerate(test_mnist)\n",
    "batch_idx, (example_data, example_targets) = next(examples)"
   ]
  },
  {
   "cell_type": "markdown",
   "id": "b11c8e7a",
   "metadata": {},
   "source": [
    "Выведение на экран размера одного батча:"
   ]
  },
  {
   "cell_type": "code",
   "execution_count": 6,
   "id": "6e67ca6d",
   "metadata": {},
   "outputs": [
    {
     "name": "stdout",
     "output_type": "stream",
     "text": [
      "Размер тензора: torch.Size([64, 1, 28, 28])\n"
     ]
    }
   ],
   "source": [
    "print('Размер тензора:', example_data.shape)"
   ]
  },
  {
   "cell_type": "markdown",
   "id": "9cd856fd",
   "metadata": {},
   "source": [
    "Выведение на экран образцов данных датасета:"
   ]
  },
  {
   "cell_type": "code",
   "execution_count": 7,
   "id": "e4ba4b98",
   "metadata": {},
   "outputs": [
    {
     "data": {
      "image/png": "[encoded data removed]",
      "text/plain": [
       "<Figure size 432x288 with 6 Axes>"
      ]
     },
     "metadata": {},
     "output_type": "display_data"
    }
   ],
   "source": [
    "fig = plt.figure()\n",
    "\n",
    "for i in range(6):\n",
    "    plt.subplot(2, 3, i+1)\n",
    "    plt.tight_layout()\n",
    "    plt.imshow(example_data[i][0], cmap='gray')\n",
    "    plt.title(f'Number: {example_targets[i]}')\n",
    "    plt.xticks([])\n",
    "    plt.yticks([])\n",
    "\n",
    "plt.show()"
   ]
  },
  {
   "cell_type": "markdown",
   "id": "e54c3c48",
   "metadata": {},
   "source": [
    "<div style=\"height: 2px; background-color: blue; margin: 10px 0; opacity: 0.2\"></div>"
   ]
  },
  {
   "cell_type": "markdown",
   "id": "96c6ec38",
   "metadata": {},
   "source": [
    "### 3.3. Построение нейросетевой модели"
   ]
  },
  {
   "cell_type": "markdown",
   "id": "8213eecf",
   "metadata": {},
   "source": [
    "Задание класса нейронной сети с двумерной свёрткой и двумя Dropout-регуляризаторами:"
   ]
  },
  {
   "cell_type": "code",
   "execution_count": 8,
   "id": "20270e41",
   "metadata": {},
   "outputs": [],
   "source": [
    "class MNISTNetwork(nn.Module):\n",
    "    def __init__(self):\n",
    "        super(MNISTNetwork, self).__init__()\n",
    "        \n",
    "        self.conv1 = nn.Conv2d(1, 10, kernel_size=5)\n",
    "        self.conv2 = nn.Conv2d(10, 20, kernel_size=5)\n",
    "        self.conv2_drop = nn.Dropout2d()\n",
    "        self.fc1 = nn.Linear(320, 50)\n",
    "        self.fc2 = nn.Linear(50, 10)\n",
    "\n",
    "    def forward(self, x):\n",
    "        x = F.relu(F.max_pool2d(self.conv1(x), 2))\n",
    "        x = F.relu(F.max_pool2d(self.conv2_drop(self.conv2(x)), 2))\n",
    "        x = x.view(-1, 320)\n",
    "        x = F.relu(self.fc1(x))\n",
    "        x = F.dropout(x, training=self.training)\n",
    "        x = self.fc2(x)\n",
    "        \n",
    "        return F.log_softmax(x, 1)"
   ]
  },
  {
   "cell_type": "markdown",
   "id": "a230d453",
   "metadata": {},
   "source": [
    "Объявление экземпляра класса:"
   ]
  },
  {
   "cell_type": "code",
   "execution_count": 9,
   "id": "fb72a4b8",
   "metadata": {},
   "outputs": [],
   "source": [
    "network = MNISTNetwork()"
   ]
  },
  {
   "cell_type": "markdown",
   "id": "5e0c5039",
   "metadata": {},
   "source": [
    "Задание параметров:"
   ]
  },
  {
   "cell_type": "code",
   "execution_count": 10,
   "id": "e94b8243",
   "metadata": {},
   "outputs": [],
   "source": [
    "learn_r = 0.01\n",
    "moment = 0.5\n",
    "epochs = 2"
   ]
  },
  {
   "cell_type": "markdown",
   "id": "d24ac94a",
   "metadata": {},
   "source": [
    "Определение оптимизатора:"
   ]
  },
  {
   "cell_type": "code",
   "execution_count": 11,
   "id": "787a75f8",
   "metadata": {},
   "outputs": [],
   "source": [
    "optimizer = optim.SGD(network.parameters(), lr=learn_r, momentum=moment)"
   ]
  },
  {
   "cell_type": "markdown",
   "id": "f18a6f46",
   "metadata": {},
   "source": [
    "Ссылка на python-файл: [mnist_network.py](https://github.com/tidalinn/mai_term01_artificial_intelligence_course/coursework_mpi_01/mnist_network.py)."
   ]
  },
  {
   "cell_type": "markdown",
   "id": "482638ef",
   "metadata": {},
   "source": [
    "<div style=\"height: 2px; background-color: blue; margin: 10px 0; opacity: 0.2\"></div>"
   ]
  },
  {
   "cell_type": "markdown",
   "id": "964fd4d7",
   "metadata": {},
   "source": [
    "### 3.4. Обучение модели"
   ]
  },
  {
   "cell_type": "markdown",
   "id": "76207cf5",
   "metadata": {},
   "source": [
    "Задание функции обучения модели на тренировочном датасете:"
   ]
  },
  {
   "cell_type": "code",
   "execution_count": 12,
   "id": "97835dd4",
   "metadata": {},
   "outputs": [],
   "source": [
    "def train(epoch, train_set, network, optimizer, log_interval: int = 10):\n",
    "    network.train()\n",
    "    \n",
    "    for batch_idx, (data, target) in enumerate(train_set):\n",
    "        optimizer.zero_grad()\n",
    "        output = network(data)\n",
    "        loss = F.nll_loss(output, target)\n",
    "        loss.backward()\n",
    "        optimizer.step()\n",
    "        \n",
    "        if batch_idx % log_interval == 0:\n",
    "            print('Train Epoch: {} [{}/{} ({:.0f}%)]\\tLoss: {:.6f}'.format(\n",
    "                  epoch, batch_idx * len(data), len(train_set.dataset),\n",
    "                  100. * batch_idx / len(train_set), loss.item()))"
   ]
  },
  {
   "cell_type": "markdown",
   "id": "09678f5e",
   "metadata": {},
   "source": [
    "Ссылка на python-файл: [train.py](https://github.com/tidalinn/mai_term01_artificial_intelligence_course/coursework_mpi_01/train.py)."
   ]
  },
  {
   "cell_type": "markdown",
   "id": "cc8729bc",
   "metadata": {},
   "source": [
    "Задание функции обучения модели на тестовом датасете:"
   ]
  },
  {
   "cell_type": "code",
   "execution_count": 13,
   "id": "7e770f37",
   "metadata": {},
   "outputs": [],
   "source": [
    "def test(test_set, network):\n",
    "    network.eval()\n",
    "    test_loss = 0\n",
    "    correct = 0\n",
    "    results = {'avg_loss': [],\n",
    "               'accuracy': []}\n",
    "    \n",
    "    with torch.no_grad():\n",
    "        for data, target in test_set:\n",
    "            output = network(data)\n",
    "            test_loss += F.nll_loss(output, target, size_average=False).item()\n",
    "            pred = output.data.max(1, keepdim=True)[1]\n",
    "            correct += pred.eq(target.data.view_as(pred)).sum()\n",
    "            \n",
    "    test_loss /= len(test_set.dataset)\n",
    "    \n",
    "    results['avg_loss'].append(test_loss)\n",
    "    results['accuracy'].append(100. * correct / len(test_set.dataset))\n",
    "\n",
    "    return results"
   ]
  },
  {
   "cell_type": "markdown",
   "id": "5805dcc4",
   "metadata": {},
   "source": [
    "Ссылка на python-файл: [test.py](https://github.com/tidalinn/mai_term01_artificial_intelligence_course/coursework_mpi_01/test.py)."
   ]
  },
  {
   "cell_type": "markdown",
   "id": "6edbd9e5",
   "metadata": {},
   "source": [
    "Обучение модели на всех данных:"
   ]
  },
  {
   "cell_type": "code",
   "execution_count": 14,
   "id": "b0af4cec",
   "metadata": {
    "scrolled": true
   },
   "outputs": [
    {
     "name": "stderr",
     "output_type": "stream",
     "text": [
      "c:\\python39\\lib\\site-packages\\torch\\nn\\functional.py:718: UserWarning: Named tensors and all their associated APIs are an experimental feature and subject to change. Please do not use them for anything important until they are released as stable. (Triggered internally at  ..\\c10/core/TensorImpl.h:1156.)\n",
      "  return torch.max_pool2d(input, kernel_size, stride, padding, dilation, ceil_mode)\n",
      "c:\\python39\\lib\\site-packages\\torch\\nn\\_reduction.py:42: UserWarning: size_average and reduce args will be deprecated, please use reduction='sum' instead.\n",
      "  warnings.warn(warning.format(ret))\n"
     ]
    },
    {
     "name": "stdout",
     "output_type": "stream",
     "text": [
      "\n",
      "Test set: Avg. loss: 2.3096, Accuracy: (9%)\n",
      "\n",
      "Train Epoch: 1 [0/60000 (0%)]\tLoss: 2.313179\n",
      "Train Epoch: 1 [640/60000 (1%)]\tLoss: 2.300776\n",
      "Train Epoch: 1 [1280/60000 (2%)]\tLoss: 2.298872\n",
      "Train Epoch: 1 [1920/60000 (3%)]\tLoss: 2.276723\n",
      "Train Epoch: 1 [2560/60000 (4%)]\tLoss: 2.241102\n",
      "Train Epoch: 1 [3200/60000 (5%)]\tLoss: 2.248662\n",
      "Train Epoch: 1 [3840/60000 (6%)]\tLoss: 2.189547\n",
      "Train Epoch: 1 [4480/60000 (7%)]\tLoss: 2.146399\n",
      "Train Epoch: 1 [5120/60000 (9%)]\tLoss: 2.107701\n",
      "Train Epoch: 1 [5760/60000 (10%)]\tLoss: 2.011356\n",
      "Train Epoch: 1 [6400/60000 (11%)]\tLoss: 1.843857\n",
      "Train Epoch: 1 [7040/60000 (12%)]\tLoss: 1.758839\n",
      "Train Epoch: 1 [7680/60000 (13%)]\tLoss: 1.672644\n",
      "Train Epoch: 1 [8320/60000 (14%)]\tLoss: 1.687645\n",
      "Train Epoch: 1 [8960/60000 (15%)]\tLoss: 1.426628\n",
      "Train Epoch: 1 [9600/60000 (16%)]\tLoss: 1.284204\n",
      "Train Epoch: 1 [10240/60000 (17%)]\tLoss: 1.318824\n",
      "Train Epoch: 1 [10880/60000 (18%)]\tLoss: 1.445287\n",
      "Train Epoch: 1 [11520/60000 (19%)]\tLoss: 1.140658\n",
      "Train Epoch: 1 [12160/60000 (20%)]\tLoss: 1.152956\n",
      "Train Epoch: 1 [12800/60000 (21%)]\tLoss: 1.053577\n",
      "Train Epoch: 1 [13440/60000 (22%)]\tLoss: 0.899838\n",
      "Train Epoch: 1 [14080/60000 (23%)]\tLoss: 1.192381\n",
      "Train Epoch: 1 [14720/60000 (25%)]\tLoss: 0.947140\n",
      "Train Epoch: 1 [15360/60000 (26%)]\tLoss: 0.874856\n",
      "Train Epoch: 1 [16000/60000 (27%)]\tLoss: 0.848544\n",
      "Train Epoch: 1 [16640/60000 (28%)]\tLoss: 0.771893\n",
      "Train Epoch: 1 [17280/60000 (29%)]\tLoss: 0.764048\n",
      "Train Epoch: 1 [17920/60000 (30%)]\tLoss: 0.805497\n",
      "Train Epoch: 1 [18560/60000 (31%)]\tLoss: 0.891861\n",
      "Train Epoch: 1 [19200/60000 (32%)]\tLoss: 0.795640\n",
      "Train Epoch: 1 [19840/60000 (33%)]\tLoss: 0.910627\n",
      "Train Epoch: 1 [20480/60000 (34%)]\tLoss: 0.582403\n",
      "Train Epoch: 1 [21120/60000 (35%)]\tLoss: 0.694939\n",
      "Train Epoch: 1 [21760/60000 (36%)]\tLoss: 0.619523\n",
      "Train Epoch: 1 [22400/60000 (37%)]\tLoss: 0.766233\n",
      "Train Epoch: 1 [23040/60000 (38%)]\tLoss: 0.715024\n",
      "Train Epoch: 1 [23680/60000 (39%)]\tLoss: 0.632636\n",
      "Train Epoch: 1 [24320/60000 (41%)]\tLoss: 0.665659\n",
      "Train Epoch: 1 [24960/60000 (42%)]\tLoss: 0.840592\n",
      "Train Epoch: 1 [25600/60000 (43%)]\tLoss: 0.855430\n",
      "Train Epoch: 1 [26240/60000 (44%)]\tLoss: 0.620044\n",
      "Train Epoch: 1 [26880/60000 (45%)]\tLoss: 0.630453\n",
      "Train Epoch: 1 [27520/60000 (46%)]\tLoss: 0.687899\n",
      "Train Epoch: 1 [28160/60000 (47%)]\tLoss: 0.587980\n",
      "Train Epoch: 1 [28800/60000 (48%)]\tLoss: 0.547443\n",
      "Train Epoch: 1 [29440/60000 (49%)]\tLoss: 0.833101\n",
      "Train Epoch: 1 [30080/60000 (50%)]\tLoss: 0.739253\n",
      "Train Epoch: 1 [30720/60000 (51%)]\tLoss: 0.632813\n",
      "Train Epoch: 1 [31360/60000 (52%)]\tLoss: 0.645520\n",
      "Train Epoch: 1 [32000/60000 (53%)]\tLoss: 0.711382\n",
      "Train Epoch: 1 [32640/60000 (54%)]\tLoss: 0.442867\n",
      "Train Epoch: 1 [33280/60000 (55%)]\tLoss: 0.587726\n",
      "Train Epoch: 1 [33920/60000 (57%)]\tLoss: 0.578378\n",
      "Train Epoch: 1 [34560/60000 (58%)]\tLoss: 0.660835\n",
      "Train Epoch: 1 [35200/60000 (59%)]\tLoss: 0.572858\n",
      "Train Epoch: 1 [35840/60000 (60%)]\tLoss: 0.561306\n",
      "Train Epoch: 1 [36480/60000 (61%)]\tLoss: 0.625550\n",
      "Train Epoch: 1 [37120/60000 (62%)]\tLoss: 0.804732\n",
      "Train Epoch: 1 [37760/60000 (63%)]\tLoss: 0.573892\n",
      "Train Epoch: 1 [38400/60000 (64%)]\tLoss: 0.627403\n",
      "Train Epoch: 1 [39040/60000 (65%)]\tLoss: 0.543961\n",
      "Train Epoch: 1 [39680/60000 (66%)]\tLoss: 0.624664\n",
      "Train Epoch: 1 [40320/60000 (67%)]\tLoss: 0.320901\n",
      "Train Epoch: 1 [40960/60000 (68%)]\tLoss: 0.334969\n",
      "Train Epoch: 1 [41600/60000 (69%)]\tLoss: 0.371449\n",
      "Train Epoch: 1 [42240/60000 (70%)]\tLoss: 0.298658\n",
      "Train Epoch: 1 [42880/60000 (71%)]\tLoss: 0.419554\n",
      "Train Epoch: 1 [43520/60000 (72%)]\tLoss: 0.434449\n",
      "Train Epoch: 1 [44160/60000 (74%)]\tLoss: 0.453025\n",
      "Train Epoch: 1 [44800/60000 (75%)]\tLoss: 0.614609\n",
      "Train Epoch: 1 [45440/60000 (76%)]\tLoss: 0.532227\n",
      "Train Epoch: 1 [46080/60000 (77%)]\tLoss: 0.517912\n",
      "Train Epoch: 1 [46720/60000 (78%)]\tLoss: 0.383934\n",
      "Train Epoch: 1 [47360/60000 (79%)]\tLoss: 0.494573\n",
      "Train Epoch: 1 [48000/60000 (80%)]\tLoss: 0.556367\n",
      "Train Epoch: 1 [48640/60000 (81%)]\tLoss: 0.417237\n",
      "Train Epoch: 1 [49280/60000 (82%)]\tLoss: 0.394811\n",
      "Train Epoch: 1 [49920/60000 (83%)]\tLoss: 0.522914\n",
      "Train Epoch: 1 [50560/60000 (84%)]\tLoss: 0.427441\n",
      "Train Epoch: 1 [51200/60000 (85%)]\tLoss: 0.694497\n",
      "Train Epoch: 1 [51840/60000 (86%)]\tLoss: 0.499355\n",
      "Train Epoch: 1 [52480/60000 (87%)]\tLoss: 0.682454\n",
      "Train Epoch: 1 [53120/60000 (88%)]\tLoss: 0.549657\n",
      "Train Epoch: 1 [53760/60000 (90%)]\tLoss: 0.557483\n",
      "Train Epoch: 1 [54400/60000 (91%)]\tLoss: 0.632214\n",
      "Train Epoch: 1 [55040/60000 (92%)]\tLoss: 0.443137\n",
      "Train Epoch: 1 [55680/60000 (93%)]\tLoss: 0.551459\n",
      "Train Epoch: 1 [56320/60000 (94%)]\tLoss: 0.553697\n",
      "Train Epoch: 1 [56960/60000 (95%)]\tLoss: 0.354288\n",
      "Train Epoch: 1 [57600/60000 (96%)]\tLoss: 0.316035\n",
      "Train Epoch: 1 [58240/60000 (97%)]\tLoss: 0.303243\n",
      "Train Epoch: 1 [58880/60000 (98%)]\tLoss: 0.716555\n",
      "Train Epoch: 1 [59520/60000 (99%)]\tLoss: 0.383558\n",
      "\n",
      "Train Epoch: 2 [0/60000 (0%)]\tLoss: 0.440339\n",
      "Train Epoch: 2 [640/60000 (1%)]\tLoss: 0.469435\n",
      "Train Epoch: 2 [1280/60000 (2%)]\tLoss: 0.509253\n",
      "Train Epoch: 2 [1920/60000 (3%)]\tLoss: 0.506885\n",
      "Train Epoch: 2 [2560/60000 (4%)]\tLoss: 0.300824\n",
      "Train Epoch: 2 [3200/60000 (5%)]\tLoss: 0.165906\n",
      "Train Epoch: 2 [3840/60000 (6%)]\tLoss: 0.476971\n",
      "Train Epoch: 2 [4480/60000 (7%)]\tLoss: 0.412993\n",
      "Train Epoch: 2 [5120/60000 (9%)]\tLoss: 0.393474\n",
      "Train Epoch: 2 [5760/60000 (10%)]\tLoss: 0.637620\n",
      "Train Epoch: 2 [6400/60000 (11%)]\tLoss: 0.565368\n",
      "Train Epoch: 2 [7040/60000 (12%)]\tLoss: 0.304737\n",
      "Train Epoch: 2 [7680/60000 (13%)]\tLoss: 0.435464\n",
      "Train Epoch: 2 [8320/60000 (14%)]\tLoss: 0.637521\n",
      "Train Epoch: 2 [8960/60000 (15%)]\tLoss: 0.502357\n",
      "Train Epoch: 2 [9600/60000 (16%)]\tLoss: 0.450039\n",
      "Train Epoch: 2 [10240/60000 (17%)]\tLoss: 0.311704\n",
      "Train Epoch: 2 [10880/60000 (18%)]\tLoss: 0.498341\n",
      "Train Epoch: 2 [11520/60000 (19%)]\tLoss: 0.322191\n",
      "Train Epoch: 2 [12160/60000 (20%)]\tLoss: 0.323756\n",
      "Train Epoch: 2 [12800/60000 (21%)]\tLoss: 0.467862\n",
      "Train Epoch: 2 [13440/60000 (22%)]\tLoss: 0.476511\n",
      "Train Epoch: 2 [14080/60000 (23%)]\tLoss: 0.472192\n",
      "Train Epoch: 2 [14720/60000 (25%)]\tLoss: 0.380189\n",
      "Train Epoch: 2 [15360/60000 (26%)]\tLoss: 0.202136\n",
      "Train Epoch: 2 [16000/60000 (27%)]\tLoss: 0.255493\n",
      "Train Epoch: 2 [16640/60000 (28%)]\tLoss: 0.362601\n",
      "Train Epoch: 2 [17280/60000 (29%)]\tLoss: 0.419573\n",
      "Train Epoch: 2 [17920/60000 (30%)]\tLoss: 0.326882\n",
      "Train Epoch: 2 [18560/60000 (31%)]\tLoss: 0.335627\n",
      "Train Epoch: 2 [19200/60000 (32%)]\tLoss: 0.490675\n",
      "Train Epoch: 2 [19840/60000 (33%)]\tLoss: 0.352373\n",
      "Train Epoch: 2 [20480/60000 (34%)]\tLoss: 0.364297\n",
      "Train Epoch: 2 [21120/60000 (35%)]\tLoss: 0.354880\n",
      "Train Epoch: 2 [21760/60000 (36%)]\tLoss: 0.493919\n",
      "Train Epoch: 2 [22400/60000 (37%)]\tLoss: 0.600932\n",
      "Train Epoch: 2 [23040/60000 (38%)]\tLoss: 0.489900\n",
      "Train Epoch: 2 [23680/60000 (39%)]\tLoss: 0.350780\n",
      "Train Epoch: 2 [24320/60000 (41%)]\tLoss: 0.411205\n",
      "Train Epoch: 2 [24960/60000 (42%)]\tLoss: 0.204166\n",
      "Train Epoch: 2 [25600/60000 (43%)]\tLoss: 0.206056\n",
      "Train Epoch: 2 [26240/60000 (44%)]\tLoss: 0.385642\n",
      "Train Epoch: 2 [26880/60000 (45%)]\tLoss: 0.300997\n",
      "Train Epoch: 2 [27520/60000 (46%)]\tLoss: 0.230377\n",
      "Train Epoch: 2 [28160/60000 (47%)]\tLoss: 0.167519\n",
      "Train Epoch: 2 [28800/60000 (48%)]\tLoss: 0.263114\n",
      "Train Epoch: 2 [29440/60000 (49%)]\tLoss: 0.523259\n",
      "Train Epoch: 2 [30080/60000 (50%)]\tLoss: 0.296855\n",
      "Train Epoch: 2 [30720/60000 (51%)]\tLoss: 0.317473\n",
      "Train Epoch: 2 [31360/60000 (52%)]\tLoss: 0.458140\n",
      "Train Epoch: 2 [32000/60000 (53%)]\tLoss: 0.687634\n",
      "Train Epoch: 2 [32640/60000 (54%)]\tLoss: 0.291329\n",
      "Train Epoch: 2 [33280/60000 (55%)]\tLoss: 0.271950\n",
      "Train Epoch: 2 [33920/60000 (57%)]\tLoss: 0.434479\n",
      "Train Epoch: 2 [34560/60000 (58%)]\tLoss: 0.388147\n",
      "Train Epoch: 2 [35200/60000 (59%)]\tLoss: 0.446179\n",
      "Train Epoch: 2 [35840/60000 (60%)]\tLoss: 0.460561\n",
      "Train Epoch: 2 [36480/60000 (61%)]\tLoss: 0.346642\n",
      "Train Epoch: 2 [37120/60000 (62%)]\tLoss: 0.481860\n",
      "Train Epoch: 2 [37760/60000 (63%)]\tLoss: 0.431715\n",
      "Train Epoch: 2 [38400/60000 (64%)]\tLoss: 0.282530\n",
      "Train Epoch: 2 [39040/60000 (65%)]\tLoss: 0.190561\n",
      "Train Epoch: 2 [39680/60000 (66%)]\tLoss: 0.420266\n",
      "Train Epoch: 2 [40320/60000 (67%)]\tLoss: 0.191966\n",
      "Train Epoch: 2 [40960/60000 (68%)]\tLoss: 0.499374\n",
      "Train Epoch: 2 [41600/60000 (69%)]\tLoss: 0.143479\n",
      "Train Epoch: 2 [42240/60000 (70%)]\tLoss: 0.359340\n",
      "Train Epoch: 2 [42880/60000 (71%)]\tLoss: 0.455502\n",
      "Train Epoch: 2 [43520/60000 (72%)]\tLoss: 0.284436\n",
      "Train Epoch: 2 [44160/60000 (74%)]\tLoss: 0.411646\n",
      "Train Epoch: 2 [44800/60000 (75%)]\tLoss: 0.241226\n",
      "Train Epoch: 2 [45440/60000 (76%)]\tLoss: 0.488671\n"
     ]
    },
    {
     "name": "stdout",
     "output_type": "stream",
     "text": [
      "Train Epoch: 2 [46080/60000 (77%)]\tLoss: 0.292272\n",
      "Train Epoch: 2 [46720/60000 (78%)]\tLoss: 0.292756\n",
      "Train Epoch: 2 [47360/60000 (79%)]\tLoss: 0.202214\n",
      "Train Epoch: 2 [48000/60000 (80%)]\tLoss: 0.261317\n",
      "Train Epoch: 2 [48640/60000 (81%)]\tLoss: 0.354185\n",
      "Train Epoch: 2 [49280/60000 (82%)]\tLoss: 0.428840\n",
      "Train Epoch: 2 [49920/60000 (83%)]\tLoss: 0.271411\n",
      "Train Epoch: 2 [50560/60000 (84%)]\tLoss: 0.340419\n",
      "Train Epoch: 2 [51200/60000 (85%)]\tLoss: 0.453894\n",
      "Train Epoch: 2 [51840/60000 (86%)]\tLoss: 0.316161\n",
      "Train Epoch: 2 [52480/60000 (87%)]\tLoss: 0.337763\n",
      "Train Epoch: 2 [53120/60000 (88%)]\tLoss: 0.248534\n",
      "Train Epoch: 2 [53760/60000 (90%)]\tLoss: 0.235532\n",
      "Train Epoch: 2 [54400/60000 (91%)]\tLoss: 0.194960\n",
      "Train Epoch: 2 [55040/60000 (92%)]\tLoss: 0.477535\n",
      "Train Epoch: 2 [55680/60000 (93%)]\tLoss: 0.192724\n",
      "Train Epoch: 2 [56320/60000 (94%)]\tLoss: 0.382673\n",
      "Train Epoch: 2 [56960/60000 (95%)]\tLoss: 0.213257\n",
      "Train Epoch: 2 [57600/60000 (96%)]\tLoss: 0.548612\n",
      "Train Epoch: 2 [58240/60000 (97%)]\tLoss: 0.465227\n",
      "Train Epoch: 2 [58880/60000 (98%)]\tLoss: 0.277409\n",
      "Train Epoch: 2 [59520/60000 (99%)]\tLoss: 0.275432\n",
      "\n"
     ]
    }
   ],
   "source": [
    "init_test = test(test_mnist, network)\n",
    "print('\\nTest set: Avg. loss: {:.4f}, Accuracy: ({:.0f}%)\\n'.format(\n",
    "          init_test['avg_loss'][0], init_test['accuracy'][0]))\n",
    "\n",
    "results_test = []\n",
    "\n",
    "for epoch in range(1, epochs + 1):\n",
    "    train(epoch, train_mnist, network, optimizer)\n",
    "    results_test.append(test(test_mnist, network))\n",
    "    print()"
   ]
  },
  {
   "cell_type": "markdown",
   "id": "1f608539",
   "metadata": {},
   "source": [
    "Выведение на экран результатов потерь и качества моделей на пройденных эпохах:"
   ]
  },
  {
   "cell_type": "code",
   "execution_count": 15,
   "id": "13091674",
   "metadata": {},
   "outputs": [
    {
     "name": "stdout",
     "output_type": "stream",
     "text": [
      "Epoch: 1, Test set: Avg. loss: 0.1864, Accuracy: (94.38%)\n",
      "Epoch: 2, Test set: Avg. loss: 0.1167, Accuracy: (96.31%)\n"
     ]
    }
   ],
   "source": [
    "for index, result in enumerate(results_test):\n",
    "    print('Epoch: {}, Test set: Avg. loss: {:.4f}, Accuracy: ({:.2f}%)'.format(\n",
    "          index + 1, result['avg_loss'][0], result['accuracy'][0]))"
   ]
  },
  {
   "cell_type": "markdown",
   "id": "65bf357e",
   "metadata": {},
   "source": [
    "Модель показала хороший результат, поэтому теперь можно разнести её по нескольким ядрам для распределения вычислений."
   ]
  },
  {
   "cell_type": "markdown",
   "id": "f92d48c2",
   "metadata": {},
   "source": [
    "Ссылка на python-файл: [train_model.py](https://github.com/tidalinn/mai_term01_artificial_intelligence_course/coursework_mpi_01/train_model.py) с распараллеливанием процессов."
   ]
  },
  {
   "cell_type": "markdown",
   "id": "f45a2b3d",
   "metadata": {},
   "source": [
    "<div style=\"height: 2px; background-color: blue; margin: 10px 0; opacity: 0.2\"></div>"
   ]
  },
  {
   "cell_type": "markdown",
   "id": "f13d6e96",
   "metadata": {},
   "source": [
    "### 3.5. Ансаблевое голосование"
   ]
  },
  {
   "cell_type": "markdown",
   "id": "eb327a60",
   "metadata": {},
   "source": [
    "Сохранение количества использованных ядер:"
   ]
  },
  {
   "cell_type": "code",
   "execution_count": 16,
   "id": "442cbdc8",
   "metadata": {},
   "outputs": [],
   "source": [
    "total_ranks = 4"
   ]
  },
  {
   "cell_type": "markdown",
   "id": "37d1a164",
   "metadata": {},
   "source": [
    "Сохранение результатов вычислений на разных ядрах:"
   ]
  },
  {
   "cell_type": "code",
   "execution_count": 17,
   "id": "8bee5d99",
   "metadata": {
    "scrolled": true
   },
   "outputs": [],
   "source": [
    "data_result = pd.read_csv('./results_test.txt', \n",
    "                          names=[f'iter {num}' for num in range(1, total_ranks + 1)])"
   ]
  },
  {
   "cell_type": "markdown",
   "id": "64cb7bb5",
   "metadata": {},
   "source": [
    "Выведение на экран результатов вычислений:"
   ]
  },
  {
   "cell_type": "code",
   "execution_count": 18,
   "id": "b303b754",
   "metadata": {},
   "outputs": [
    {
     "data": {
      "text/html": [
       "<div>\n",
       "<style scoped>\n",
       "    .dataframe tbody tr th:only-of-type {\n",
       "        vertical-align: middle;\n",
       "    }\n",
       "\n",
       "    .dataframe tbody tr th {\n",
       "        vertical-align: top;\n",
       "    }\n",
       "\n",
       "    .dataframe thead th {\n",
       "        text-align: right;\n",
       "    }\n",
       "</style>\n",
       "<table border=\"1\" class=\"dataframe\">\n",
       "  <thead>\n",
       "    <tr style=\"text-align: right;\">\n",
       "      <th></th>\n",
       "      <th>iter 1</th>\n",
       "      <th>iter 2</th>\n",
       "      <th>iter 3</th>\n",
       "      <th>iter 4</th>\n",
       "    </tr>\n",
       "  </thead>\n",
       "  <tbody>\n",
       "    <tr>\n",
       "      <th>0</th>\n",
       "      <td>tensor(93.6700)</td>\n",
       "      <td>tensor(95.6800)</td>\n",
       "      <td>tensor(96.7300)</td>\n",
       "      <td>tensor(97.2200)</td>\n",
       "    </tr>\n",
       "  </tbody>\n",
       "</table>\n",
       "</div>"
      ],
      "text/plain": [
       "            iter 1            iter 2            iter 3            iter 4\n",
       "0  tensor(93.6700)   tensor(95.6800)   tensor(96.7300)   tensor(97.2200)"
      ]
     },
     "execution_count": 18,
     "metadata": {},
     "output_type": "execute_result"
    }
   ],
   "source": [
    "data_result"
   ]
  },
  {
   "cell_type": "markdown",
   "id": "28d3ceba",
   "metadata": {},
   "source": [
    "Поскольку модель решает задачу классификации, ансамблирование будет произведено путём избрания наибольшего значения из полученных.\n",
    "\n",
    "Таким образом, наивысшее качество предсказаний модель показала на 4й итерации при обучении на 2м ядре."
   ]
  },
  {
   "cell_type": "markdown",
   "id": "1b6a6370",
   "metadata": {},
   "source": [
    "<div style=\"height: 2px; background-color: blue; margin: 10px 0;\"></div>"
   ]
  },
  {
   "cell_type": "markdown",
   "id": "71af6975",
   "metadata": {},
   "source": [
    "## 4. Общий вывод"
   ]
  },
  {
   "cell_type": "markdown",
   "id": "98d05ffe",
   "metadata": {},
   "source": [
    "Было произведено обучение модели на разных ядрах с помощью MPI, а результат определён с помощью ансамблевого голосования."
   ]
  },
  {
   "cell_type": "markdown",
   "id": "2fdb03db",
   "metadata": {},
   "source": [
    "<div style=\"text-align: center; font-size: 20px; padding: 15px 0;\">\n",
    "    <a href=\"#Содержание\" data-toc-modified-id=\"Содержание\" style=\"text-decoration: none; color: #296eaa; border: 2px dashed #296eaa; opacity: 0.8; border-radius: 3px; padding: 10px 80px;\">\n",
    "        Наверх к содержанию ↑\n",
    "    </a>\n",
    "</div>"
   ]
  }
 ],
 "metadata": {
  "kernelspec": {
   "display_name": "Python 3 (ipykernel)",
   "language": "python",
   "name": "python3"
  },
  "language_info": {
   "codemirror_mode": {
    "name": "ipython",
    "version": 3
   },
   "file_extension": ".py",
   "mimetype": "text/x-python",
   "name": "python",
   "nbconvert_exporter": "python",
   "pygments_lexer": "ipython3",
   "version": "3.9.6"
  }
 },
 "nbformat": 4,
 "nbformat_minor": 5
}
