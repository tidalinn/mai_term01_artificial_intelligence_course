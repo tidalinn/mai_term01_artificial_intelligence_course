{
 "cells": [
  {
   "cell_type": "markdown",
   "metadata": {},
   "source": [
    "<h1>Содержание<span class=\"tocSkip\"></span></h1>\n",
    "<br>\n",
    "<div class=\"toc\">\n",
    "</div>"
   ]
  },
  {
   "cell_type": "markdown",
   "metadata": {},
   "source": [
    "# Лабораторная работа №2: Pygmo"
   ]
  },
  {
   "cell_type": "markdown",
   "metadata": {},
   "source": [
    "**Задача:** оптимизировать алгоритмы градиентного спуска с помощью Pygmo.\n",
    "\n",
    "**Источник данных:** набор данных взят с платформы [Kaggle](https://www.kaggle.com/datasets/rounakbanik/pokemon).\n",
    "\n",
    "**Описание данных:** набор данных содержит информацию обо всех семи поколениях 802 Покемонов.\n",
    "\n",
    "---\n",
    "\n",
    "Для реализации поставленных задач из набора данных `datasets/pokemon.csv` будут взяты следующие столбцы:\n",
    "\n",
    "* `defense` - признак объектов\n",
    "* `attack` - целевой признак\n",
    "* `name` - имя Покемона"
   ]
  },
  {
   "cell_type": "markdown",
   "metadata": {},
   "source": [
    "<div style=\"height: 2px; background-color: blue; margin: 10px 0;\"></div>"
   ]
  },
  {
   "cell_type": "markdown",
   "metadata": {},
   "source": [
    "## 1. Импорт библиотек"
   ]
  },
  {
   "cell_type": "code",
   "execution_count": null,
   "metadata": {},
   "outputs": [],
   "source": [
    "import pygmo"
   ]
  },
  {
   "cell_type": "markdown",
   "metadata": {},
   "source": []
  },
  {
   "cell_type": "code",
   "execution_count": null,
   "metadata": {},
   "outputs": [],
   "source": [
    "from PyGMO.problem import base\n",
    "\n",
    "class my_problem(base):\n",
    "    \"\"\"\n",
    "    De Jong (sphere) function implemented purely in Python.\n",
    "\n",
    "    USAGE: my_problem(dim=10)\n",
    "\n",
    "    * dim problem dimension\n",
    "    \"\"\"\n",
    "\n",
    "    def __init__(self, dim=10):\n",
    "        # First we call the constructor of the base class telling PyGMO\n",
    "        # what kind of problem to expect ('dim' dimensions, 1 objective, 0 contraints etc.)\n",
    "        super(my_problem,self).__init__(dim)\n",
    "\n",
    "        # We set the problem bounds (in this case equal for all components)\n",
    "        self.set_bounds(-5.12, 5.12)\n",
    "\n",
    "    # Reimplement the virtual method that defines the objective function.\n",
    "    def _objfun_impl(self, x):\n",
    "\n",
    "        # Compute the sphere function\n",
    "        f = sum([x[i] ** 2 for i in range(self.dimension)])\n",
    "\n",
    "        # Note that we return a tuple with one element only. In PyGMO the objective functions\n",
    "        # return tuples so that multi-objective optimization is also possible.\n",
    "        return (f, )\n",
    "\n",
    "    # Finally we also reimplement a virtual method that adds some output to the __repr__ method\n",
    "    def human_readable_extra(self):\n",
    "        return \"\\n\\t Problem dimension: \" + str(self.__dim)"
   ]
  },
  {
   "cell_type": "markdown",
   "metadata": {},
   "source": []
  },
  {
   "cell_type": "code",
   "execution_count": null,
   "metadata": {},
   "outputs": [],
   "source": [
    "from PyGMO import algorithm, island\n",
    "\n",
    "prob = my_problem(dim=10)  # Create a 10-dimensional problem\n",
    "algo = algorithm.bee_colony(gen=500)  # 500 generations of bee_colony algorithm\n",
    "isl = island(algo, prob, 20)  # Instantiate population with 20 individuals\n",
    "isl.evolve(1)  # Evolve the island once\n",
    "isl.join()\n",
    "print(isl.population.champion.f)"
   ]
  },
  {
   "cell_type": "markdown",
   "metadata": {},
   "source": []
  },
  {
   "cell_type": "code",
   "execution_count": null,
   "metadata": {},
   "outputs": [],
   "source": [
    "class my_problem_max(base):\n",
    "    \"\"\"\n",
    "    Analytical function to maximize.\n",
    "\n",
    "    USAGE: my_problem_max()\n",
    "    \"\"\"\n",
    "\n",
    "    def __init__(self):\n",
    "        super(my_problem_max,self).__init__(2)\n",
    "        self.set_bounds(-10, 10)\n",
    "\n",
    "        # We provide a list of the best known solutions to the problem\n",
    "        self.best_x = [[1.0, -1.0], ]\n",
    "\n",
    "    # Reimplement the virtual method that defines the objective function\n",
    "    def _objfun_impl(self, x):\n",
    "        f = -(1.0 - x[0]) ** 2 - 100 * (-x[0] ** 2 - x[1]) ** 2 - 1.0\n",
    "        return (f, )\n",
    "\n",
    "    # Reimplement the virtual method that compares fitnesses\n",
    "    def _compare_fitness_impl(self, f1, f2):\n",
    "        return f1[0] > f2[0]\n",
    "\n",
    "    # Add some output to __repr__\n",
    "    def human_readable_extra(self):\n",
    "        return \"\\n\\tMaximization problem\""
   ]
  },
  {
   "cell_type": "markdown",
   "metadata": {},
   "source": []
  },
  {
   "cell_type": "code",
   "execution_count": null,
   "metadata": {},
   "outputs": [],
   "source": [
    "from math import sqrt\n",
    "\n",
    "prob = my_problem_max()\n",
    "algo = algorithm.de(gen=20)\n",
    "isl = island(algo, prob, 20)\n",
    "isl.evolve(10)\n",
    "isl.join()\n",
    "\n",
    "print(\"Best individual:\")\n",
    "print(isl.population.champion)\n",
    "\n",
    "print(\"Comparison of the best found fitness with the best known fitness:\")\n",
    "for best_fitness in prob.best_f:\n",
    "    print(best_fitness[0] - isl.population.champion.f[0])\n",
    "\n",
    "print(\"L2 distance to the best decision vector:\")\n",
    "for best_decision in prob.best_x:\n",
    "    l2_norm = 0\n",
    "    for n in range(0, len(best_decision)):\n",
    "        l2_norm +=  (best_decision[n] - isl.population.champion.x[n]) ** 2\n",
    "    l2_norm = sqrt(l2_norm)\n",
    "    print(l2_norm)"
   ]
  },
  {
   "cell_type": "markdown",
   "metadata": {},
   "source": []
  },
  {
   "cell_type": "code",
   "execution_count": null,
   "metadata": {},
   "outputs": [],
   "source": [
    "class my_mo_problem(base):\n",
    "    \"\"\"\n",
    "    A multi-objective problem.\n",
    "    (This is actually a Python implementation of 2-dimensional ZDT-1 problem)\n",
    "\n",
    "    USAGE: my_mo_problem()\n",
    "    \"\"\"\n",
    "\n",
    "    def __init__(self, dim=2):\n",
    "        # We call the base constructor as 'dim' dimensional problem, with 0 integer parts and 2 objectives.\n",
    "        super(my_mo_problem,self).__init__(dim, 0, 2)\n",
    "        self.set_bounds(0.0, 1.0)\n",
    "\n",
    "    # Reimplement the virtual method that defines the objective function\n",
    "    def _objfun_impl(self, x):\n",
    "        f0 = x[0]\n",
    "        g = 1.0 + 4.5 * x[1]\n",
    "        f1 = g * (1.0 - sqrt(f0 / g))\n",
    "        return (f0, f1, )\n",
    "\n",
    "    # Add some output to __repr__\n",
    "    def human_readable_extra(self):\n",
    "        return \"\\n\\tMulti-Objective problem\""
   ]
  },
  {
   "cell_type": "markdown",
   "metadata": {},
   "source": []
  },
  {
   "cell_type": "code",
   "execution_count": null,
   "metadata": {},
   "outputs": [],
   "source": [
    "from PyGMO import population\n",
    "\n",
    "prob = my_mo_problem()\n",
    "algo = algorithm.sms_emoa(gen=2000)  # 2000 generations of SMS-EMOA should solve it\n",
    "pop = population(prob, 30)\n",
    "pop = algo.evolve(pop)"
   ]
  },
  {
   "cell_type": "markdown",
   "metadata": {},
   "source": []
  },
  {
   "cell_type": "code",
   "execution_count": null,
   "metadata": {},
   "outputs": [],
   "source": [
    "%matplotlib inline\n",
    "import matplotlib.pyplot as plt\n",
    "import numpy as np\n",
    "\n",
    "# Fold each objectives into vectors and print the Pareto front\n",
    "F = np.array([ind.cur_f for ind in pop]).T\n",
    "plt.scatter(F[0], F[1])\n",
    "plt.xlabel(\"$f^{(1)}$\")\n",
    "plt.ylabel(\"$f^{(2)}$\")\n",
    "plt.show()"
   ]
  },
  {
   "cell_type": "markdown",
   "metadata": {},
   "source": [
    "<div style=\"text-align: center; font-size: 20px; padding: 15px 0;\">\n",
    "    <a href=\"#Содержание\" data-toc-modified-id=\"Содержание\" style=\"text-decoration: none; color: #296eaa; border: 2px dashed #296eaa; opacity: 0.8; border-radius: 3px; padding: 10px 80px;\">\n",
    "        Наверх к содержанию ↑\n",
    "    </a>\n",
    "</div>"
   ]
  }
 ],
 "metadata": {
  "kernelspec": {
   "display_name": "Python 3 (ipykernel)",
   "language": "python",
   "name": "python3"
  },
  "language_info": {
   "codemirror_mode": {
    "name": "ipython",
    "version": 3
   },
   "file_extension": ".py",
   "mimetype": "text/x-python",
   "name": "python",
   "nbconvert_exporter": "python",
   "pygments_lexer": "ipython3",
   "version": "3.9.6"
  }
 },
 "nbformat": 4,
 "nbformat_minor": 2
}
