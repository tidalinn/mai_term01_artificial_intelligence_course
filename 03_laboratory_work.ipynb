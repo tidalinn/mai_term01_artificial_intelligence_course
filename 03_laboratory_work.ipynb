{
 "cells": [
  {
   "cell_type": "markdown",
   "id": "27f3becc",
   "metadata": {},
   "source": [
    "<h1>Содержание<span class=\"tocSkip\"></span></h1>\n",
    "<br>\n",
    "<div class=\"toc\">\n",
    "</div>"
   ]
  },
  {
   "cell_type": "markdown",
   "id": "a9ca59f4",
   "metadata": {},
   "source": [
    "# Лабораторная работа №3: Numba"
   ]
  },
  {
   "cell_type": "markdown",
   "id": "6a9e5844",
   "metadata": {},
   "source": [
    "**Задача:** ускорить алгоритмы градиентного спуска с помощью Numba.\n",
    "\n",
    "**Источник данных:** набор данных взят с платформы [Kaggle](https://www.kaggle.com/datasets/rounakbanik/pokemon).\n",
    "\n",
    "**Описание данных:** набор данных содержит информацию обо всех семи поколениях 802 Покемонов.\n",
    "\n",
    "---\n",
    "\n",
    "Для реализации поставленных задач из набора данных `datasets/pokemon.csv` будут взяты следующие столбцы:\n",
    "\n",
    "* `defense` - признак объектов\n",
    "* `attack` - целевой признак\n",
    "* `name` - имя Покемона"
   ]
  },
  {
   "cell_type": "markdown",
   "id": "1c2a8e36",
   "metadata": {},
   "source": [
    "<div style=\"height: 2px; background-color: blue; margin: 10px 0;\"></div>"
   ]
  },
  {
   "cell_type": "markdown",
   "id": "17d1998c",
   "metadata": {},
   "source": [
    "## 1. Импорт библиотек"
   ]
  },
  {
   "cell_type": "code",
   "execution_count": null,
   "id": "ffb53105",
   "metadata": {},
   "outputs": [],
   "source": [
    "import numba"
   ]
  },
  {
   "cell_type": "code",
   "execution_count": null,
   "id": "cecfd8e4",
   "metadata": {},
   "outputs": [],
   "source": []
  },
  {
   "cell_type": "markdown",
   "id": "641ae500",
   "metadata": {},
   "source": [
    "<div style=\"text-align: center; font-size: 20px; padding: 15px 0;\">\n",
    "    <a href=\"#Содержание\" data-toc-modified-id=\"Содержание\" style=\"text-decoration: none; color: #296eaa; border: 2px dashed #296eaa; opacity: 0.8; border-radius: 3px; padding: 10px 80px;\">\n",
    "        Наверх к содержанию ↑\n",
    "    </a>\n",
    "</div>"
   ]
  }
 ],
 "metadata": {
  "kernelspec": {
   "display_name": "Python 3 (ipykernel)",
   "language": "python",
   "name": "python3"
  },
  "language_info": {
   "codemirror_mode": {
    "name": "ipython",
    "version": 3
   },
   "file_extension": ".py",
   "mimetype": "text/x-python",
   "name": "python",
   "nbconvert_exporter": "python",
   "pygments_lexer": "ipython3",
   "version": "3.9.6"
  }
 },
 "nbformat": 4,
 "nbformat_minor": 5
}
