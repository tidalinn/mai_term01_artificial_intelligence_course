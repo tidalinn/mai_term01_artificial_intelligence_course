{
 "cells": [
  {
   "cell_type": "markdown",
   "id": "27f3becc",
   "metadata": {},
   "source": [
    "<h1>Содержание<span class=\"tocSkip\"></span></h1>\n",
    "<br>\n",
    "<div class=\"toc\">\n",
    "    <ul class=\"toc-item\">\n",
    "        <li>\n",
    "            <span>\n",
    "                <a href=\"#1.-Импорт-библиотек\">\n",
    "                    <span class=\"toc-item-num\">1.&nbsp;&nbsp;</span>\n",
    "                    Импорт библиотек\n",
    "                </a>\n",
    "            </span>\n",
    "        </li>\n",
    "        <li>\n",
    "            <span>\n",
    "                <a href=\"#2.-Подготовка-данных\">\n",
    "                    <span class=\"toc-item-num\">2.&nbsp;&nbsp;</span>\n",
    "                    Подготовка данных\n",
    "                </a>\n",
    "            </span>\n",
    "        </li>\n",
    "        <li>\n",
    "            <span>\n",
    "                <a href=\"#3.-Алгоритмы-градиентного-спуска\">\n",
    "                    <span class=\"toc-item-num\">3.&nbsp;&nbsp;</span>\n",
    "                    Алгоритмы градиентного спуска\n",
    "                </a>\n",
    "            </span>\n",
    "        </li>\n",
    "        <li>\n",
    "            <span>\n",
    "                <a href=\"#4.-Алгоритмы-оптимизации\">\n",
    "                    <span class=\"toc-item-num\">4.&nbsp;&nbsp;</span>\n",
    "                    Алгоритмы оптимизации\n",
    "                </a>\n",
    "            </span>\n",
    "        </li>\n",
    "        <li>\n",
    "            <span>\n",
    "                <a href=\"#5.-Общий-вывод\">\n",
    "                    <span class=\"toc-item-num\">5.&nbsp;&nbsp;</span>\n",
    "                    Общий вывод\n",
    "                </a>\n",
    "            </span>\n",
    "        </li>\n",
    "    </ul>\n",
    "</div>"
   ]
  },
  {
   "cell_type": "markdown",
   "id": "a9ca59f4",
   "metadata": {},
   "source": [
    "# Лабораторная работа №3: Numba"
   ]
  },
  {
   "cell_type": "markdown",
   "id": "6a9e5844",
   "metadata": {},
   "source": [
    "**Задача:** ускорить алгоритмы стохастического градиентного спуска, а также адаптивной и моментной его модификаций с помощью `numba`.\n",
    "\n",
    "**Источники данных:** набор данных с платформы [Kaggle](https://www.kaggle.com/datasets/rounakbanik/pokemon).\n",
    "\n",
    "**Описание данных:** набор данных содержит информацию о семи поколениях Покемонов.\n",
    "\n",
    "---\n",
    "\n",
    "Для реализации поставленных задач из набора данных `datasets/pokemon.csv` будут взяты следующие столбцы:\n",
    "\n",
    "* `defense` - признак объектов\n",
    "* `attack` - целевой признак"
   ]
  },
  {
   "cell_type": "markdown",
   "id": "1c2a8e36",
   "metadata": {},
   "source": [
    "<div style=\"height: 2px; background-color: blue; margin: 10px 0;\"></div>"
   ]
  },
  {
   "cell_type": "markdown",
   "id": "17d1998c",
   "metadata": {},
   "source": [
    "## 1. Импорт библиотек"
   ]
  },
  {
   "cell_type": "markdown",
   "id": "f2df2e56",
   "metadata": {},
   "source": [
    "Импорт всех необходимых библиотек:"
   ]
  },
  {
   "cell_type": "code",
   "execution_count": 1,
   "id": "ffb53105",
   "metadata": {},
   "outputs": [],
   "source": [
    "import numpy as np\n",
    "import pandas as pd\n",
    "import random\n",
    "import timeit\n",
    "\n",
    "from numba import njit\n",
    "\n",
    "from typing import Tuple, Mapping\n",
    "\n",
    "from sklearn.preprocessing import StandardScaler\n",
    "\n",
    "from utils.sgd_functions import *"
   ]
  },
  {
   "cell_type": "markdown",
   "id": "3b9ba49e",
   "metadata": {},
   "source": [
    "* Внутрипроектный модуль `sgd_function` включает в себя все функции и классы градиентного спуска, использованные в ходе работы над лабораторной работой №1"
   ]
  },
  {
   "cell_type": "markdown",
   "id": "882b452e",
   "metadata": {},
   "source": [
    "<div style=\"height: 2px; background-color: blue; margin: 10px 0;\"></div>"
   ]
  },
  {
   "cell_type": "markdown",
   "id": "b595d163",
   "metadata": {},
   "source": [
    "## 2. Подготовка данных "
   ]
  },
  {
   "cell_type": "markdown",
   "id": "10f611f5",
   "metadata": {},
   "source": [
    "#### Набор данных Pokemon"
   ]
  },
  {
   "cell_type": "markdown",
   "id": "ed085e78",
   "metadata": {},
   "source": [
    "Сохранение набора данных:"
   ]
  },
  {
   "cell_type": "code",
   "execution_count": 2,
   "id": "34f247fa",
   "metadata": {},
   "outputs": [],
   "source": [
    "data = (pd.read_csv('datasets/pokemon.csv', usecols=['defense', 'attack'], index_col=0)\n",
    "          .reset_index())[['defense', 'attack']]"
   ]
  },
  {
   "cell_type": "markdown",
   "id": "858ca5f2",
   "metadata": {},
   "source": [
    "Сохранение значений для `Х` и `Y` из набора данных:"
   ]
  },
  {
   "cell_type": "code",
   "execution_count": 3,
   "id": "2ea4cc01",
   "metadata": {},
   "outputs": [],
   "source": [
    "x_pokemon = StandardScaler().fit_transform(data[['defense']]).flatten()\n",
    "y_pokemon = data['attack'].to_numpy()"
   ]
  },
  {
   "cell_type": "markdown",
   "id": "60f76a1a",
   "metadata": {},
   "source": [
    "Сохранение значений `X` с дополнительным столбцом из единиц:"
   ]
  },
  {
   "cell_type": "code",
   "execution_count": 4,
   "id": "5e6a0c5e",
   "metadata": {},
   "outputs": [],
   "source": [
    "X_pokemon_ones = np.hstack(((np.ones((x_pokemon.shape[0], 1))), x_pokemon[:, None]))"
   ]
  },
  {
   "cell_type": "markdown",
   "id": "8247998f",
   "metadata": {},
   "source": [
    "#### Сгенерированные точки"
   ]
  },
  {
   "cell_type": "markdown",
   "id": "d9f66a45",
   "metadata": {},
   "source": [
    "Задание множества точек:"
   ]
  },
  {
   "cell_type": "code",
   "execution_count": 5,
   "id": "565cdb64",
   "metadata": {},
   "outputs": [],
   "source": [
    "x_linear = np.linspace(-5, 5, 1000)\n",
    "y_linear = np.linspace(-5, 5, 1000)"
   ]
  },
  {
   "cell_type": "markdown",
   "id": "530b5a95",
   "metadata": {},
   "source": [
    "Сохранение значений `X` с дополнительным столбцом из единиц:"
   ]
  },
  {
   "cell_type": "code",
   "execution_count": 6,
   "id": "90e1e634",
   "metadata": {},
   "outputs": [],
   "source": [
    "X_linear_ones = np.hstack(((np.ones((x_linear.shape[0], 1))), x_linear[:, None]))"
   ]
  },
  {
   "cell_type": "markdown",
   "id": "c67f55b5",
   "metadata": {},
   "source": [
    ">**Вывод**\n",
    ">\n",
    ">Данные подготовлены для реализации оптимизации алгоритмов."
   ]
  },
  {
   "cell_type": "markdown",
   "id": "7db5829d",
   "metadata": {},
   "source": [
    "<div style=\"height: 2px; background-color: blue; margin: 10px 0;\"></div>"
   ]
  },
  {
   "cell_type": "markdown",
   "id": "2ec1c6a9",
   "metadata": {},
   "source": [
    "## 3. Алгоритмы градиентного спуска"
   ]
  },
  {
   "cell_type": "markdown",
   "id": "2e7c36d8",
   "metadata": {},
   "source": [
    "Функционал `numba` имеет несколько ограничений, требующих внесения изменений в работу исходных алгоритмов, реализованных в Лабораторной работе №1:\n",
    "\n",
    "* Библиотека поддерживает функционал классов только частично, поэтому исходный класс будет разбит на функции.\n",
    "\n",
    "* Библиотека не распознаёт переданные в качестве опциональных аргументов значения типа `None`, поэтому будет произведена реализация исходного алгоритма для набора данных и заданной функции отдельно.\n",
    "\n",
    "* Библиотека не распознаёт переданные в качестве опциональных аргументов функции, поэтому функции будут заданы в теле вычисления градиентов."
   ]
  },
  {
   "cell_type": "markdown",
   "id": "b87098e6",
   "metadata": {},
   "source": [
    "<div style=\"height: 2px; background-color: blue; opacity: 0.2; margin: 10px 0;\"></div>"
   ]
  },
  {
   "cell_type": "markdown",
   "id": "e2c73a58",
   "metadata": {},
   "source": [
    "Задание функции, формирующей датафрейм:"
   ]
  },
  {
   "cell_type": "code",
   "execution_count": 7,
   "id": "3e1d1ef4",
   "metadata": {},
   "outputs": [],
   "source": [
    "def data_framed(data: dict,\n",
    "                columns: list = ['time']):\n",
    "    \n",
    "    return pd.DataFrame(data.keys(),\n",
    "                        columns=['func']).join(pd.DataFrame(data.values(),\n",
    "                                               columns=columns))"
   ]
  },
  {
   "cell_type": "markdown",
   "id": "9c1cdf43",
   "metadata": {},
   "source": [
    "Задание функции, строящей сводную таблицу по полученным значениям:"
   ]
  },
  {
   "cell_type": "code",
   "execution_count": 8,
   "id": "66ee6b30",
   "metadata": {},
   "outputs": [],
   "source": [
    "def data_joined(data: pd.DataFrame, \n",
    "                value: str = 'initial',\n",
    "                lsuffix: str = '_numba', \n",
    "                rsuffix: str = '_initial'):\n",
    "    \n",
    "    return data[data['func'].str.contains(value) == False] \\\n",
    "               .reset_index(drop=True) \\\n",
    "               .join(data[data['func'].str.contains(value) == True] \\\n",
    "                         .drop('func', axis=1)\n",
    "                         .reset_index(drop=True), \n",
    "                     lsuffix=lsuffix,\n",
    "                     rsuffix=rsuffix)"
   ]
  },
  {
   "cell_type": "markdown",
   "id": "0e869d49",
   "metadata": {},
   "source": [
    "Задание функции, умножающей матрицу на вектор:"
   ]
  },
  {
   "cell_type": "code",
   "execution_count": 9,
   "id": "92f473a5",
   "metadata": {},
   "outputs": [],
   "source": [
    "@njit\n",
    "def matmul_vec(X: np.array, \n",
    "               vec: np.array) -> np.array:\n",
    "    \n",
    "    \"\"\"Mathematical multiplication\n",
    "       \n",
    "       Args: \n",
    "           X (np.array): features matrix\n",
    "           vec (np.array): vector\n",
    "       \n",
    "       Return:\n",
    "           print estimated time\n",
    "    \"\"\"\n",
    "    \n",
    "    new_X = []\n",
    "    \n",
    "    for i in range(X.shape[0]):\n",
    "        new_value = 0\n",
    "        \n",
    "        for j in range(vec.shape[0]):\n",
    "            new_value += X[i][j] * vec[j]\n",
    "            \n",
    "        new_X.append(new_value)\n",
    "    \n",
    "    return np.array(new_X)"
   ]
  },
  {
   "cell_type": "markdown",
   "id": "25e2e684",
   "metadata": {},
   "source": [
    "Задание словаря-хранилища результатов вычисления времени работы функций:"
   ]
  },
  {
   "cell_type": "code",
   "execution_count": 10,
   "id": "947b56ed",
   "metadata": {},
   "outputs": [],
   "source": [
    "time_comparison_pokemon = {}"
   ]
  },
  {
   "cell_type": "markdown",
   "id": "1e02eebf",
   "metadata": {},
   "source": [
    "Задание словаря-хранилища результатов вычисления времени работы инициализации классов:"
   ]
  },
  {
   "cell_type": "code",
   "execution_count": 11,
   "id": "bc004f4f",
   "metadata": {},
   "outputs": [],
   "source": [
    "time_class = {}"
   ]
  },
  {
   "cell_type": "markdown",
   "id": "2203098e",
   "metadata": {},
   "source": [
    "Задание функции сохранения времени работы функций:"
   ]
  },
  {
   "cell_type": "code",
   "execution_count": 12,
   "id": "56cadb19",
   "metadata": {},
   "outputs": [],
   "source": [
    "def save_time(func: Mapping,\n",
    "              title: str,\n",
    "              store: dict = time_comparison_pokemon,\n",
    "              experiments: int = 100):\n",
    "    \n",
    "    \"\"\"Save time to compare\n",
    "       \n",
    "       Args: \n",
    "           func (Mapping): estimated function\n",
    "           title (str): title of a marked time\n",
    "           store (dict): dictionary to store the results. Defaults to time_comparison\n",
    "           experiments (int, optional): quantity of experiments. Defaults to 100\n",
    "       \n",
    "       Return:\n",
    "           save checked time (seconds) to a dictionary\n",
    "    \"\"\"\n",
    "    \n",
    "    results = []\n",
    "    \n",
    "    for _ in range(experiments):\n",
    "        start_time = timeit.default_timer()\n",
    "        func\n",
    "        results.append(timeit.default_timer() - start_time)\n",
    "        \n",
    "    store[title] = sum(results) / len(results)"
   ]
  },
  {
   "cell_type": "markdown",
   "id": "ca4b3ee1",
   "metadata": {},
   "source": [
    "Задание начальных весов:"
   ]
  },
  {
   "cell_type": "code",
   "execution_count": 13,
   "id": "9218febf",
   "metadata": {},
   "outputs": [],
   "source": [
    "start_w = np.array([-3, 4])"
   ]
  },
  {
   "cell_type": "markdown",
   "id": "64ee557d",
   "metadata": {},
   "source": [
    "<div style=\"height: 2px; background-color: blue; opacity: 0.2; margin: 10px 0;\"></div>"
   ]
  },
  {
   "cell_type": "markdown",
   "id": "d071f360",
   "metadata": {},
   "source": [
    "**Градиент функции потерь**"
   ]
  },
  {
   "cell_type": "markdown",
   "id": "b9c1fe14",
   "metadata": {},
   "source": [
    "Задание функции, вычисляющей градиент функции потерь:"
   ]
  },
  {
   "cell_type": "code",
   "execution_count": 14,
   "id": "eb9a9bf0",
   "metadata": {},
   "outputs": [],
   "source": [
    "@njit\n",
    "def mse_grad_numba(X: pd.Series, \n",
    "                   Y: pd.Series, \n",
    "                   w: np.array) -> np.array:\n",
    "    \n",
    "    \"\"\"Calculate mean squared error gradient for dataset\"\"\"\n",
    "    \n",
    "    y_hat = matmul_vec(X, w)\n",
    "    error = matmul_vec(X.T, y_hat - Y)\n",
    "    grad = (2 / X.shape[0]) * error\n",
    "    \n",
    "    return grad"
   ]
  },
  {
   "cell_type": "markdown",
   "id": "d41c5119",
   "metadata": {},
   "source": [
    "Вычисление времени работы с применением `numba`:"
   ]
  },
  {
   "cell_type": "code",
   "execution_count": 15,
   "id": "9099b0f8",
   "metadata": {},
   "outputs": [],
   "source": [
    "save_time(mse_grad_numba(X_pokemon_ones, y_pokemon, start_w), \n",
    "          'mse_grad')"
   ]
  },
  {
   "cell_type": "markdown",
   "id": "ed009ad2",
   "metadata": {},
   "source": [
    "Вычисление времени работы исходной функции:"
   ]
  },
  {
   "cell_type": "code",
   "execution_count": 16,
   "id": "52eca46b",
   "metadata": {},
   "outputs": [],
   "source": [
    "save_time(mse_grad(X_pokemon_ones, y_pokemon, start_w), \n",
    "          'mse_grad_initial')"
   ]
  },
  {
   "cell_type": "markdown",
   "id": "873faeeb",
   "metadata": {},
   "source": [
    "<div style=\"height: 2px; background-color: blue; opacity: 0.2; margin: 10px 0;\"></div>"
   ]
  },
  {
   "cell_type": "markdown",
   "id": "7f49c5a9",
   "metadata": {},
   "source": [
    "Вычисление времени работы создания экземпляра исходного класса для данных:"
   ]
  },
  {
   "cell_type": "code",
   "execution_count": 17,
   "id": "8fdf8151",
   "metadata": {},
   "outputs": [],
   "source": [
    "save_time(GradientDescent(x_pokemon, y_pokemon, None, mse_grad), \n",
    "          'gd_class', \n",
    "          time_class)"
   ]
  },
  {
   "cell_type": "code",
   "execution_count": 18,
   "id": "d5e296b4",
   "metadata": {},
   "outputs": [],
   "source": [
    "gd_pokemon = GradientDescent(x_pokemon, y_pokemon, None, mse_grad)"
   ]
  },
  {
   "cell_type": "markdown",
   "id": "8de329bc",
   "metadata": {},
   "source": [
    "<div style=\"height: 2px; background-color: blue; opacity: 0.2; margin: 10px 0;\"></div>"
   ]
  },
  {
   "cell_type": "markdown",
   "id": "c2dd0650",
   "metadata": {},
   "source": [
    "**Градиентный спуск**"
   ]
  },
  {
   "cell_type": "markdown",
   "id": "7a9c85ca",
   "metadata": {},
   "source": [
    "Задание функции, вычисляющей градиенты:"
   ]
  },
  {
   "cell_type": "code",
   "execution_count": 19,
   "id": "0f24b3e5",
   "metadata": {},
   "outputs": [],
   "source": [
    "@njit\n",
    "def get_gradients(X_ones, Y, w_old, learn_r) -> Tuple:\n",
    "    \"\"\"Calculate gradients per each loop saving the result\"\"\"\n",
    "    \n",
    "    grad = mse_grad_numba(X_ones, Y, w_old)\n",
    "\n",
    "    dw = learn_r * grad\n",
    "    w_new = w_old - dw\n",
    "\n",
    "    return w_new, grad, dw"
   ]
  },
  {
   "cell_type": "markdown",
   "id": "69c67d02",
   "metadata": {},
   "source": [
    "Вычисление времени работы с применением `numba`:"
   ]
  },
  {
   "cell_type": "code",
   "execution_count": 20,
   "id": "6c438c57",
   "metadata": {},
   "outputs": [],
   "source": [
    "save_time(get_gradients(X_pokemon_ones, y_pokemon, start_w, 0.01), \n",
    "          'gradient_descent')"
   ]
  },
  {
   "cell_type": "markdown",
   "id": "5c332718",
   "metadata": {},
   "source": [
    "Вычисление времени работы исходной функции:"
   ]
  },
  {
   "cell_type": "code",
   "execution_count": 21,
   "id": "c3c03097",
   "metadata": {},
   "outputs": [],
   "source": [
    "save_time(gd_pokemon.get_gradients(X_pokemon_ones, x_pokemon, y_pokemon, start_w, 'gradient', 0.01), \n",
    "          'gradient_descent_initial')"
   ]
  },
  {
   "cell_type": "markdown",
   "id": "f21948ca",
   "metadata": {},
   "source": [
    "<div style=\"height: 2px; background-color: blue; opacity: 0.2; margin: 10px 0;\"></div>"
   ]
  },
  {
   "cell_type": "markdown",
   "id": "d2506ebd",
   "metadata": {},
   "source": [
    "**Стохастический градиентный спуск**"
   ]
  },
  {
   "cell_type": "markdown",
   "id": "abdb8a27",
   "metadata": {},
   "source": [
    "Задание функции, вычисляющей стохастический градиентный спуск:"
   ]
  },
  {
   "cell_type": "code",
   "execution_count": 22,
   "id": "528bf2b0",
   "metadata": {},
   "outputs": [],
   "source": [
    "def stochastic_descent(X_ones, Y, w_old, learn_r) -> Tuple:\n",
    "    \"\"\"Stochastic gradient descent algorithm\"\"\"\n",
    "\n",
    "    @njit\n",
    "    def get_random(X_ones):\n",
    "        return np.random.randint(X_ones.shape[0])\n",
    "    \n",
    "    i = get_random(X_ones)\n",
    "\n",
    "    return get_gradients(X_ones[i, None], Y[i, None], w_old, learn_r)"
   ]
  },
  {
   "cell_type": "markdown",
   "id": "d7124573",
   "metadata": {},
   "source": [
    "Вычисление времени работы с применением `numba`:"
   ]
  },
  {
   "cell_type": "code",
   "execution_count": 23,
   "id": "585c938f",
   "metadata": {},
   "outputs": [],
   "source": [
    "save_time(stochastic_descent(X_pokemon_ones, y_pokemon, start_w, 0.01), \n",
    "          'stochastic_descent')"
   ]
  },
  {
   "cell_type": "markdown",
   "id": "d06379dc",
   "metadata": {},
   "source": [
    "Вычисление времени работы исходной функции:"
   ]
  },
  {
   "cell_type": "code",
   "execution_count": 24,
   "id": "2f813bf7",
   "metadata": {},
   "outputs": [],
   "source": [
    "save_time(gd_pokemon.stochastic_descent(start_w, 'stochastic', 0.01), \n",
    "          'stochastic_descent_initial')"
   ]
  },
  {
   "cell_type": "markdown",
   "id": "4e7eba10",
   "metadata": {},
   "source": [
    "<div style=\"height: 2px; background-color: blue; opacity: 0.2; margin: 10px 0;\"></div>"
   ]
  },
  {
   "cell_type": "markdown",
   "id": "74991d9e",
   "metadata": {},
   "source": [
    "**Стохастический градиентный спуск по мини-батчам**"
   ]
  },
  {
   "cell_type": "markdown",
   "id": "d181c4dd",
   "metadata": {},
   "source": [
    "Задание функции, вычисляющей градиентный спуск по мини-батчам:"
   ]
  },
  {
   "cell_type": "code",
   "execution_count": 25,
   "id": "9a95366b",
   "metadata": {},
   "outputs": [],
   "source": [
    "@njit\n",
    "def minibatch_descent(X_ones, Y, w_old, learn_r, batch_size) -> Tuple:\n",
    "    \"\"\"Stochastic mini-batch gradient descent algorithm\"\"\"\n",
    "    \n",
    "    w_new_list, grad_list = [], []\n",
    "\n",
    "    batches_count = X_ones.shape[0] // batch_size\n",
    "\n",
    "    for i in range(batches_count):\n",
    "        begin = i * batch_size\n",
    "        end = (i + 1) * batch_size\n",
    "\n",
    "        w_new, grad, dw = get_gradients(X_ones[begin:end, :], Y[begin:end], w_old, learn_r)\n",
    "        \n",
    "        w_new_list.append(w_new)\n",
    "        grad_list.append(dw)\n",
    "    \n",
    "    return w_new_list, grad_list, dw"
   ]
  },
  {
   "cell_type": "markdown",
   "id": "56596f90",
   "metadata": {},
   "source": [
    "Вычисление времени работы с применением `numba`:"
   ]
  },
  {
   "cell_type": "code",
   "execution_count": 26,
   "id": "1bba6455",
   "metadata": {},
   "outputs": [],
   "source": [
    "save_time(minibatch_descent(X_pokemon_ones, y_pokemon, start_w, 0.01, 10), \n",
    "          'minibatch_descent')"
   ]
  },
  {
   "cell_type": "markdown",
   "id": "085cb745",
   "metadata": {},
   "source": [
    "Вычисление времени работы исходной функции:"
   ]
  },
  {
   "cell_type": "code",
   "execution_count": 27,
   "id": "5c1251eb",
   "metadata": {},
   "outputs": [],
   "source": [
    "save_time(gd_pokemon.minibatch_descent(start_w, 'minibatch', 0.01, 10), \n",
    "          'minibatch_descent_initial')"
   ]
  },
  {
   "cell_type": "markdown",
   "id": "479c3e4f",
   "metadata": {},
   "source": [
    "<div style=\"height: 2px; background-color: blue; opacity: 0.2; margin: 10px 0;\"></div>"
   ]
  },
  {
   "cell_type": "markdown",
   "id": "80a90bba",
   "metadata": {},
   "source": [
    "Задание функции, определяющей тип градиентного спуска:"
   ]
  },
  {
   "cell_type": "code",
   "execution_count": 28,
   "id": "5e3f15ad",
   "metadata": {},
   "outputs": [],
   "source": [
    "def grad_condition(X_ones, Y, w_old, descent, learn_r, batch_size) -> Tuple:\n",
    "    \"\"\"Gradient type\"\"\"\n",
    "\n",
    "    if descent == 'gradient':\n",
    "        w_new, grads, dw = get_gradients(X_ones, Y, w_old, learn_r)\n",
    "\n",
    "    elif descent == 'stochastic':\n",
    "        w_new, grads, dw = stochastic_descent(X_ones, Y, w_old, learn_r)\n",
    "\n",
    "    elif descent == 'minibatch':\n",
    "        w_new, grads, dw = minibatch_descent(X_ones, Y, w_old, learn_r, batch_size)\n",
    "\n",
    "    else:\n",
    "        raise Exception('Incorrect type of descent')\n",
    "    \n",
    "    return w_new, grads, dw"
   ]
  },
  {
   "cell_type": "markdown",
   "id": "4184060a",
   "metadata": {},
   "source": [
    "<div style=\"height: 2px; background-color: blue; opacity: 0.2; margin: 10px 0;\"></div>"
   ]
  },
  {
   "cell_type": "markdown",
   "id": "1b9b8d58",
   "metadata": {},
   "source": [
    "Задание функции, вычисляющей градиентный спуск:"
   ]
  },
  {
   "cell_type": "code",
   "execution_count": 29,
   "id": "bb9e687e",
   "metadata": {},
   "outputs": [],
   "source": [
    "def descent(X: np.array,\n",
    "            Y: np.array,\n",
    "            w0: np.array,\n",
    "            descent: str,    \n",
    "            learn_r: float = 0.01,\n",
    "            max_iters: int = 300,\n",
    "            batch_size: int = None,\n",
    "            epsilon: int = 2e-4,\n",
    "            threshold: int = 2e-4,\n",
    "            seed_v: int = 2020) -> np.array:\n",
    "\n",
    "    \"\"\"Gradient descent calculation\"\"\"\n",
    "    \n",
    "    @njit\n",
    "    def seed(seed_v: int = seed_v):\n",
    "        return np.random.seed(seed_v)\n",
    "    \n",
    "    seed()\n",
    "    \n",
    "    weights, grads = [], []\n",
    "\n",
    "    w_old = w0\n",
    "    iters = 1\n",
    "    dw = np.array(2 * epsilon)\n",
    "    \n",
    "    X_ones = np.hstack(((np.ones((X.shape[0], 1))), X[:, None]))\n",
    "\n",
    "    while abs(dw).sum() > threshold and iters <= max_iters:\n",
    "        w_new, grad, dw = grad_condition(X_ones, Y, w_old, \n",
    "                                         descent, learn_r, batch_size)\n",
    "        \n",
    "        if len(w_new) > 2:\n",
    "            weights.extend(w_new)\n",
    "            grads.extend(grad)\n",
    "            \n",
    "            w_old = w_new[-1]\n",
    "            \n",
    "        else:\n",
    "            weights.append(w_new)\n",
    "            grads.append(grad)\n",
    "            \n",
    "            w_old = w_new\n",
    "        \n",
    "        iters += 1\n",
    "    \n",
    "    return np.array([weights, grads])"
   ]
  },
  {
   "cell_type": "markdown",
   "id": "38923992",
   "metadata": {},
   "source": [
    "Задание начальных весов:"
   ]
  },
  {
   "cell_type": "code",
   "execution_count": 30,
   "id": "17b24228",
   "metadata": {},
   "outputs": [],
   "source": [
    "gd_pokemon.start_w = np.array([-20, -10])"
   ]
  },
  {
   "cell_type": "markdown",
   "id": "0f3641cb",
   "metadata": {},
   "source": [
    "---"
   ]
  },
  {
   "cell_type": "markdown",
   "id": "a1103e95",
   "metadata": {},
   "source": [
    "*Градиентный спуск*"
   ]
  },
  {
   "cell_type": "markdown",
   "id": "25dcbe95",
   "metadata": {},
   "source": [
    "Вычисление времени работы с применением `numba`:"
   ]
  },
  {
   "cell_type": "code",
   "execution_count": 31,
   "id": "d7b80708",
   "metadata": {},
   "outputs": [],
   "source": [
    "save_time(descent(x_pokemon, y_pokemon, gd_pokemon.start_w, 'gradient', 0.01, 1000), \n",
    "          'descent_gradient')"
   ]
  },
  {
   "cell_type": "markdown",
   "id": "57f73f83",
   "metadata": {},
   "source": [
    "Сохранение результатов:"
   ]
  },
  {
   "cell_type": "code",
   "execution_count": 32,
   "id": "67e35b2b",
   "metadata": {},
   "outputs": [],
   "source": [
    "grads = descent(x_pokemon, y_pokemon, gd_pokemon.start_w, 'gradient', 0.01, 1000)"
   ]
  },
  {
   "cell_type": "markdown",
   "id": "35190fa4",
   "metadata": {},
   "source": [
    "Вычисление времени работы исходной функции:"
   ]
  },
  {
   "cell_type": "code",
   "execution_count": 33,
   "id": "6c7ba529",
   "metadata": {},
   "outputs": [],
   "source": [
    "save_time(gd_pokemon.descent(gd_pokemon.start_w, 'gradient', 0.01, 1000), \n",
    "          'descent_gradient_initial')"
   ]
  },
  {
   "cell_type": "markdown",
   "id": "88c4d703",
   "metadata": {},
   "source": [
    "Сохранение результатов:"
   ]
  },
  {
   "cell_type": "code",
   "execution_count": 34,
   "id": "709be24a",
   "metadata": {},
   "outputs": [],
   "source": [
    "gd_pokemon.grads = gd_pokemon.descent(gd_pokemon.start_w, 'gradient', 0.01, 1000)"
   ]
  },
  {
   "cell_type": "markdown",
   "id": "45e8a2ec",
   "metadata": {},
   "source": [
    "---"
   ]
  },
  {
   "cell_type": "markdown",
   "id": "dd69a35b",
   "metadata": {},
   "source": [
    "*Стохастический градиентный спуск*"
   ]
  },
  {
   "cell_type": "markdown",
   "id": "4a6f7cac",
   "metadata": {},
   "source": [
    "Вычисление времени работы с применением `numba`:"
   ]
  },
  {
   "cell_type": "code",
   "execution_count": 35,
   "id": "50370d7a",
   "metadata": {},
   "outputs": [],
   "source": [
    "save_time(descent(x_pokemon, y_pokemon, gd_pokemon.start_w, 'stochastic', 0.01, 1000), \n",
    "          'descent_stochastic')"
   ]
  },
  {
   "cell_type": "markdown",
   "id": "643558a3",
   "metadata": {},
   "source": [
    "Сохранение результатов:"
   ]
  },
  {
   "cell_type": "code",
   "execution_count": 36,
   "id": "0b881f52",
   "metadata": {},
   "outputs": [],
   "source": [
    "grads_stochastic = descent(x_pokemon, y_pokemon, gd_pokemon.start_w, 'stochastic', 0.01, 1000)"
   ]
  },
  {
   "cell_type": "markdown",
   "id": "a2c705a1",
   "metadata": {},
   "source": [
    "Вычисление времени работы исходной функции:"
   ]
  },
  {
   "cell_type": "code",
   "execution_count": 37,
   "id": "07934966",
   "metadata": {},
   "outputs": [],
   "source": [
    "save_time(gd_pokemon.descent(gd_pokemon.start_w, 'stochastic', 0.01, 1000), \n",
    "          'descent_stochastic_initial')"
   ]
  },
  {
   "cell_type": "markdown",
   "id": "b7ce893c",
   "metadata": {},
   "source": [
    "Сохранение результатов:"
   ]
  },
  {
   "cell_type": "code",
   "execution_count": 38,
   "id": "f2a471a4",
   "metadata": {},
   "outputs": [],
   "source": [
    "gd_pokemon.grads_stochastic = gd_pokemon.descent(gd_pokemon.start_w, 'stochastic', 0.01, 1000)"
   ]
  },
  {
   "cell_type": "markdown",
   "id": "68f2e7b4",
   "metadata": {},
   "source": [
    "---"
   ]
  },
  {
   "cell_type": "markdown",
   "id": "458dc7f3",
   "metadata": {},
   "source": [
    "*Стохастический градиентный спуск по мини-батчам*"
   ]
  },
  {
   "cell_type": "markdown",
   "id": "2e8ee2c8",
   "metadata": {},
   "source": [
    "Вычисление времени работы с применением `numba`:"
   ]
  },
  {
   "cell_type": "code",
   "execution_count": 39,
   "id": "2e7c7086",
   "metadata": {},
   "outputs": [],
   "source": [
    "save_time(descent(x_pokemon, y_pokemon, gd_pokemon.start_w, 'minibatch', 0.001, 5000, 50), \n",
    "          'descent_minibatch')"
   ]
  },
  {
   "cell_type": "markdown",
   "id": "c7076a93",
   "metadata": {},
   "source": [
    "Сохранение результатов:"
   ]
  },
  {
   "cell_type": "code",
   "execution_count": 40,
   "id": "14a5f978",
   "metadata": {},
   "outputs": [],
   "source": [
    "grads_minibatch = descent(x_pokemon, y_pokemon, gd_pokemon.start_w, 'minibatch', 0.001, 5000, 50)"
   ]
  },
  {
   "cell_type": "markdown",
   "id": "ec399a96",
   "metadata": {},
   "source": [
    "Вычисление времени работы исходной функции:"
   ]
  },
  {
   "cell_type": "code",
   "execution_count": 41,
   "id": "8adda96a",
   "metadata": {},
   "outputs": [],
   "source": [
    "save_time(gd_pokemon.descent(gd_pokemon.start_w, 'minibatch', 0.001, 5000, 50), \n",
    "          'descent_minibatch_initial')"
   ]
  },
  {
   "cell_type": "markdown",
   "id": "8b319947",
   "metadata": {},
   "source": [
    "Сохранение результатов:"
   ]
  },
  {
   "cell_type": "code",
   "execution_count": 42,
   "id": "db3d74ff",
   "metadata": {},
   "outputs": [],
   "source": [
    "gd_pokemon.grads_minibatch = gd_pokemon.descent(gd_pokemon.start_w, 'minibatch', 0.001, 5000, 50)"
   ]
  },
  {
   "cell_type": "markdown",
   "id": "11c80e4b",
   "metadata": {},
   "source": [
    ">**Вывод**\n",
    ">\n",
    ">Произведена оптимизация скорости работы алгоритмов градиентного спуска."
   ]
  },
  {
   "cell_type": "markdown",
   "id": "9786882d",
   "metadata": {},
   "source": [
    "<div style=\"height: 2px; background-color: blue; margin: 10px 0;\"></div>"
   ]
  },
  {
   "cell_type": "markdown",
   "id": "27f0a201",
   "metadata": {},
   "source": [
    "## 4. Алгоритмы оптимизации"
   ]
  },
  {
   "cell_type": "markdown",
   "id": "43dec5cf",
   "metadata": {},
   "source": [
    "Вычисление времени работы создания экземпляра исходного класса для данных:"
   ]
  },
  {
   "cell_type": "code",
   "execution_count": 43,
   "id": "7f834c6e",
   "metadata": {},
   "outputs": [],
   "source": [
    "save_time(Optimization(gd_pokemon.grads['weights'], gd_pokemon.grads['grads']), \n",
    "          'optim_class_grads', \n",
    "          time_class)"
   ]
  },
  {
   "cell_type": "code",
   "execution_count": 44,
   "id": "85c40bf6",
   "metadata": {},
   "outputs": [],
   "source": [
    "gd_pokemon.optimizer_grads = Optimization(gd_pokemon.grads['weights'],\n",
    "                                          gd_pokemon.grads['grads'])"
   ]
  },
  {
   "cell_type": "markdown",
   "id": "3b107cdd",
   "metadata": {},
   "source": [
    "---"
   ]
  },
  {
   "cell_type": "markdown",
   "id": "c9354893",
   "metadata": {},
   "source": [
    "Вычисление времени работы создания экземпляра исходного класса для данных:"
   ]
  },
  {
   "cell_type": "code",
   "execution_count": 45,
   "id": "1fd7a15f",
   "metadata": {},
   "outputs": [],
   "source": [
    "save_time(Optimization(gd_pokemon.grads_stochastic['weights'], gd_pokemon.grads_stochastic['grads']), \n",
    "          'optim_class_stochastic', \n",
    "          time_class)"
   ]
  },
  {
   "cell_type": "code",
   "execution_count": 46,
   "id": "f50bf997",
   "metadata": {},
   "outputs": [],
   "source": [
    "gd_pokemon.optimizer_stochastic = Optimization(gd_pokemon.grads_stochastic['weights'],\n",
    "                                               gd_pokemon.grads_stochastic['grads'])"
   ]
  },
  {
   "cell_type": "markdown",
   "id": "336c9c47",
   "metadata": {},
   "source": [
    "---"
   ]
  },
  {
   "cell_type": "markdown",
   "id": "f3aca52a",
   "metadata": {},
   "source": [
    "Вычисление времени работы создания экземпляра исходного класса для данных:"
   ]
  },
  {
   "cell_type": "code",
   "execution_count": 47,
   "id": "65dd71c9",
   "metadata": {},
   "outputs": [],
   "source": [
    "save_time(Optimization(gd_pokemon.grads_minibatch['weights'], gd_pokemon.grads_minibatch['grads']), \n",
    "          'optim_class_minibatch', \n",
    "          time_class)"
   ]
  },
  {
   "cell_type": "code",
   "execution_count": 48,
   "id": "6235929d",
   "metadata": {},
   "outputs": [],
   "source": [
    "gd_pokemon.optimizer_minibatch = Optimization(gd_pokemon.grads_minibatch['weights'],\n",
    "                                              gd_pokemon.grads_minibatch['grads'])"
   ]
  },
  {
   "cell_type": "markdown",
   "id": "ae41c34b",
   "metadata": {},
   "source": [
    "<div style=\"height: 2px; background-color: blue; opacity: 0.2; margin: 10px 0;\"></div>"
   ]
  },
  {
   "cell_type": "markdown",
   "id": "8f5f98b5",
   "metadata": {},
   "source": [
    "**ADAM**"
   ]
  },
  {
   "cell_type": "markdown",
   "id": "f919124b",
   "metadata": {},
   "source": [
    "Задание функции оптимизации ADAM:"
   ]
  },
  {
   "cell_type": "code",
   "execution_count": 49,
   "id": "0ba48752",
   "metadata": {},
   "outputs": [],
   "source": [
    "@njit\n",
    "def adam_optimizer(weights: np.array, \n",
    "                   grads: np.array, \n",
    "                   learn_r: float = 0.01,\n",
    "                   beta1: float = 0.9, \n",
    "                   beta2: float = 0.999,\n",
    "                   epsilon: int = 2e-4) -> np.array:\n",
    "    \n",
    "    \"\"\"Calculate ADAM optimization\"\"\"\n",
    "    \n",
    "    results = []\n",
    "    \n",
    "    m = [np.array([0.0, 0.0])] * weights.shape[0]\n",
    "    v = [np.array([0.0, 0.0])] * weights.shape[0]\n",
    "    \n",
    "    iters = 1\n",
    "\n",
    "    while iters <= weights.shape[0]:\n",
    "        i = iters - 1\n",
    "        m[i] = beta1 * m[i] + (1 - beta1) * grads[i]          \n",
    "        v[i] = beta2 * v[i] + (1 - beta2) * grads[i] ** 2\n",
    "        \n",
    "        m_corrected = m[i] / (1 - beta1 ** iters)\n",
    "        v_corrected = v[i] / (1 - beta2 ** iters)\n",
    "\n",
    "        new_weight = weights[i] - learn_r * m_corrected / (np.sqrt(v_corrected) + epsilon)\n",
    "        results.append(new_weight)\n",
    "        \n",
    "        iters += 1        \n",
    "    \n",
    "    return results"
   ]
  },
  {
   "cell_type": "markdown",
   "id": "2e2a21a5",
   "metadata": {},
   "source": [
    "*Градиентный спуск*"
   ]
  },
  {
   "cell_type": "markdown",
   "id": "2e1a588e",
   "metadata": {},
   "source": [
    "Вычисление времени работы с применением `numba`:"
   ]
  },
  {
   "cell_type": "code",
   "execution_count": 50,
   "id": "9f4d8838",
   "metadata": {},
   "outputs": [],
   "source": [
    "save_time(adam_optimizer(grads[0], grads[1], 0.001), \n",
    "          'adam_gradient')"
   ]
  },
  {
   "cell_type": "markdown",
   "id": "b09cec73",
   "metadata": {},
   "source": [
    "Вычисление времени работы исходной функции:"
   ]
  },
  {
   "cell_type": "code",
   "execution_count": 51,
   "id": "5aced9bf",
   "metadata": {},
   "outputs": [],
   "source": [
    "save_time(gd_pokemon.optimizer_grads.optimize('adam', 0.001), \n",
    "          'adam_gradient_initial')"
   ]
  },
  {
   "cell_type": "markdown",
   "id": "e2fdd2ec",
   "metadata": {},
   "source": [
    "---"
   ]
  },
  {
   "cell_type": "markdown",
   "id": "23cd84d4",
   "metadata": {},
   "source": [
    "*Стохастический градиентный спуск*"
   ]
  },
  {
   "cell_type": "markdown",
   "id": "8d9e7bbd",
   "metadata": {},
   "source": [
    "Вычисление времени работы с применением `numba`:"
   ]
  },
  {
   "cell_type": "code",
   "execution_count": 52,
   "id": "b5f15ee3",
   "metadata": {},
   "outputs": [],
   "source": [
    "save_time(adam_optimizer(grads_stochastic[0], grads_stochastic[1], 0.001), \n",
    "          'adam_stochastic')"
   ]
  },
  {
   "cell_type": "markdown",
   "id": "5dba2af2",
   "metadata": {},
   "source": [
    "Вычисление времени работы исходной функции:"
   ]
  },
  {
   "cell_type": "code",
   "execution_count": 53,
   "id": "73f24fdb",
   "metadata": {},
   "outputs": [],
   "source": [
    "save_time(gd_pokemon.optimizer_stochastic.optimize('adam', 0.001), \n",
    "          'adam_stochastic_initial')"
   ]
  },
  {
   "cell_type": "markdown",
   "id": "6bb87b42",
   "metadata": {},
   "source": [
    "---"
   ]
  },
  {
   "cell_type": "markdown",
   "id": "83a7578a",
   "metadata": {},
   "source": [
    "*Стохастический градиентный спуск по мини-батчам*"
   ]
  },
  {
   "cell_type": "markdown",
   "id": "4649cab5",
   "metadata": {},
   "source": [
    "Вычисление времени работы с применением `numba`:"
   ]
  },
  {
   "cell_type": "code",
   "execution_count": 54,
   "id": "03aacace",
   "metadata": {},
   "outputs": [],
   "source": [
    "save_time(adam_optimizer(grads_minibatch[0], grads_minibatch[1], 0.001), \n",
    "          'adam_minibatch')"
   ]
  },
  {
   "cell_type": "markdown",
   "id": "812d518d",
   "metadata": {},
   "source": [
    "Вычисление времени работы исходной функции:"
   ]
  },
  {
   "cell_type": "code",
   "execution_count": 55,
   "id": "0e148594",
   "metadata": {},
   "outputs": [],
   "source": [
    "save_time(gd_pokemon.optimizer_minibatch.optimize('adam', 0.001), \n",
    "          'adam_minibatch_initial')"
   ]
  },
  {
   "cell_type": "markdown",
   "id": "1923af03",
   "metadata": {},
   "source": [
    "<div style=\"height: 2px; background-color: blue; opacity: 0.2; margin: 10px 0;\"></div>"
   ]
  },
  {
   "cell_type": "markdown",
   "id": "1e209c92",
   "metadata": {},
   "source": [
    "**Метод моментов**"
   ]
  },
  {
   "cell_type": "markdown",
   "id": "b8bfa678",
   "metadata": {},
   "source": [
    "Задание функции оптимизации моментов:"
   ]
  },
  {
   "cell_type": "code",
   "execution_count": 56,
   "id": "ad22c5fc",
   "metadata": {},
   "outputs": [],
   "source": [
    "@njit\n",
    "def momentum_optimizer(weights: np.array, \n",
    "                       grads: np.array,\n",
    "                       learn_r: float = 0.01,\n",
    "                       epsilon: int = 2e-4) -> np.array:\n",
    "    \n",
    "    \"\"\"Calculate momentum optimization\"\"\"\n",
    "    \n",
    "    results = []\n",
    "\n",
    "    previous_updates = [0] * weights.shape[0]\n",
    "    prevs = []\n",
    "    mom_coeff = 1\n",
    "\n",
    "    for weight, grad, prev_update in zip(weights, grads, previous_updates):\n",
    "        delta = learn_r * grad - mom_coeff * prev_update\n",
    "        new_weight = weight - delta\n",
    "\n",
    "        prevs.append(delta)\n",
    "        results.append(new_weight)\n",
    "        previous_updates = prevs  \n",
    "\n",
    "    return results"
   ]
  },
  {
   "cell_type": "markdown",
   "id": "05019eba",
   "metadata": {},
   "source": [
    "*Градиентный спуск*"
   ]
  },
  {
   "cell_type": "markdown",
   "id": "9df663a7",
   "metadata": {},
   "source": [
    "Вычисление времени работы с применением `numba`:"
   ]
  },
  {
   "cell_type": "code",
   "execution_count": 57,
   "id": "7327d1dc",
   "metadata": {},
   "outputs": [],
   "source": [
    "save_time(momentum_optimizer(grads[0], grads[1], 0.001), \n",
    "          'momentum_gradient')"
   ]
  },
  {
   "cell_type": "markdown",
   "id": "15cdcf40",
   "metadata": {},
   "source": [
    "Вычисление времени работы исходной функции:"
   ]
  },
  {
   "cell_type": "code",
   "execution_count": 58,
   "id": "4299d038",
   "metadata": {},
   "outputs": [],
   "source": [
    "save_time(gd_pokemon.optimizer_grads.optimize('momentum', 0.001), \n",
    "          'momentum_gradient_initial')"
   ]
  },
  {
   "cell_type": "markdown",
   "id": "ef794b5a",
   "metadata": {},
   "source": [
    "---"
   ]
  },
  {
   "cell_type": "markdown",
   "id": "3f3897b1",
   "metadata": {},
   "source": [
    "*Стохастический градиентный спуск*"
   ]
  },
  {
   "cell_type": "markdown",
   "id": "8ca96ac5",
   "metadata": {},
   "source": [
    "Вычисление времени работы с применением `numba`:"
   ]
  },
  {
   "cell_type": "code",
   "execution_count": 59,
   "id": "a6ba68c4",
   "metadata": {},
   "outputs": [],
   "source": [
    "save_time(momentum_optimizer(grads_stochastic[0], grads_stochastic[1], 0.001), \n",
    "          'momentum_stochastic')"
   ]
  },
  {
   "cell_type": "markdown",
   "id": "2543b185",
   "metadata": {},
   "source": [
    "Вычисление времени работы исходной функции:"
   ]
  },
  {
   "cell_type": "code",
   "execution_count": 60,
   "id": "8c3aacc0",
   "metadata": {},
   "outputs": [],
   "source": [
    "save_time(gd_pokemon.optimizer_stochastic.optimize('momentum', 0.001), \n",
    "          'momentum_stochastic_initial')"
   ]
  },
  {
   "cell_type": "markdown",
   "id": "764a1fda",
   "metadata": {},
   "source": [
    "---"
   ]
  },
  {
   "cell_type": "markdown",
   "id": "acefbc7b",
   "metadata": {},
   "source": [
    "*Стохастический градиентный спуск по мини-батчам*"
   ]
  },
  {
   "cell_type": "markdown",
   "id": "61ac0c84",
   "metadata": {},
   "source": [
    "Вычисление времени работы с применением `numba`:"
   ]
  },
  {
   "cell_type": "code",
   "execution_count": 61,
   "id": "b81495c0",
   "metadata": {},
   "outputs": [],
   "source": [
    "save_time(momentum_optimizer(grads_minibatch[0], grads_minibatch[1], 0.001), \n",
    "          'momentum_minibatch')"
   ]
  },
  {
   "cell_type": "markdown",
   "id": "70b0727e",
   "metadata": {},
   "source": [
    "Вычисление времени работы исходной функции:"
   ]
  },
  {
   "cell_type": "code",
   "execution_count": 62,
   "id": "1432805c",
   "metadata": {},
   "outputs": [],
   "source": [
    "save_time(gd_pokemon.optimizer_minibatch.optimize('momentum', 0.001), \n",
    "          'momentum_minibatch_initial')"
   ]
  },
  {
   "cell_type": "markdown",
   "id": "b0acb2e5",
   "metadata": {},
   "source": [
    ">**Вывод**\n",
    ">\n",
    ">Произведена оптимизация скорости работы алгоритмов оптимтзации."
   ]
  },
  {
   "cell_type": "markdown",
   "id": "df634a32",
   "metadata": {},
   "source": [
    "<div style=\"height: 2px; background-color: blue; margin: 10px 0;\"></div>"
   ]
  },
  {
   "cell_type": "markdown",
   "id": "ec19311b",
   "metadata": {},
   "source": [
    "## 5. Общий вывод"
   ]
  },
  {
   "cell_type": "markdown",
   "id": "2c5d0434",
   "metadata": {},
   "source": [
    "Для большей чистоты эксперимента было взято усреднённое значение 100 итераций замера времени, произведённых по каждой функции. Замер производился в секундах."
   ]
  },
  {
   "cell_type": "markdown",
   "id": "5a3ec748",
   "metadata": {},
   "source": [
    "Выведение на экран сводной таблицы полученных вычислений градиентного спуска:"
   ]
  },
  {
   "cell_type": "code",
   "execution_count": 63,
   "id": "04b398bd",
   "metadata": {},
   "outputs": [
    {
     "data": {
      "text/html": [
       "<div>\n",
       "<style scoped>\n",
       "    .dataframe tbody tr th:only-of-type {\n",
       "        vertical-align: middle;\n",
       "    }\n",
       "\n",
       "    .dataframe tbody tr th {\n",
       "        vertical-align: top;\n",
       "    }\n",
       "\n",
       "    .dataframe thead th {\n",
       "        text-align: right;\n",
       "    }\n",
       "</style>\n",
       "<table border=\"1\" class=\"dataframe\">\n",
       "  <thead>\n",
       "    <tr style=\"text-align: right;\">\n",
       "      <th></th>\n",
       "      <th>func</th>\n",
       "      <th>time_numba</th>\n",
       "      <th>time_initial</th>\n",
       "    </tr>\n",
       "  </thead>\n",
       "  <tbody>\n",
       "    <tr>\n",
       "      <th>0</th>\n",
       "      <td>mse_grad</td>\n",
       "      <td>1.150000e-07</td>\n",
       "      <td>1.140000e-07</td>\n",
       "    </tr>\n",
       "    <tr>\n",
       "      <th>1</th>\n",
       "      <td>gradient_descent</td>\n",
       "      <td>1.110000e-07</td>\n",
       "      <td>1.080000e-07</td>\n",
       "    </tr>\n",
       "    <tr>\n",
       "      <th>2</th>\n",
       "      <td>stochastic_descent</td>\n",
       "      <td>1.130000e-07</td>\n",
       "      <td>1.160000e-07</td>\n",
       "    </tr>\n",
       "    <tr>\n",
       "      <th>3</th>\n",
       "      <td>minibatch_descent</td>\n",
       "      <td>1.110000e-07</td>\n",
       "      <td>1.140000e-07</td>\n",
       "    </tr>\n",
       "    <tr>\n",
       "      <th>4</th>\n",
       "      <td>descent_gradient</td>\n",
       "      <td>1.190000e-07</td>\n",
       "      <td>1.230000e-07</td>\n",
       "    </tr>\n",
       "    <tr>\n",
       "      <th>5</th>\n",
       "      <td>descent_stochastic</td>\n",
       "      <td>1.120000e-07</td>\n",
       "      <td>1.650000e-07</td>\n",
       "    </tr>\n",
       "    <tr>\n",
       "      <th>6</th>\n",
       "      <td>descent_minibatch</td>\n",
       "      <td>1.160000e-07</td>\n",
       "      <td>1.420000e-07</td>\n",
       "    </tr>\n",
       "  </tbody>\n",
       "</table>\n",
       "</div>"
      ],
      "text/plain": [
       "                 func    time_numba  time_initial\n",
       "0            mse_grad  1.150000e-07  1.140000e-07\n",
       "1    gradient_descent  1.110000e-07  1.080000e-07\n",
       "2  stochastic_descent  1.130000e-07  1.160000e-07\n",
       "3   minibatch_descent  1.110000e-07  1.140000e-07\n",
       "4    descent_gradient  1.190000e-07  1.230000e-07\n",
       "5  descent_stochastic  1.120000e-07  1.650000e-07\n",
       "6   descent_minibatch  1.160000e-07  1.420000e-07"
      ]
     },
     "execution_count": 63,
     "metadata": {},
     "output_type": "execute_result"
    }
   ],
   "source": [
    "data_joined(data_framed(time_comparison_pokemon))[:7]"
   ]
  },
  {
   "cell_type": "markdown",
   "id": "c3185752",
   "metadata": {},
   "source": [
    "Выведение на экран вычислений формирования класса:"
   ]
  },
  {
   "cell_type": "code",
   "execution_count": 64,
   "id": "dc5544cf",
   "metadata": {},
   "outputs": [
    {
     "data": {
      "text/html": [
       "<div>\n",
       "<style scoped>\n",
       "    .dataframe tbody tr th:only-of-type {\n",
       "        vertical-align: middle;\n",
       "    }\n",
       "\n",
       "    .dataframe tbody tr th {\n",
       "        vertical-align: top;\n",
       "    }\n",
       "\n",
       "    .dataframe thead th {\n",
       "        text-align: right;\n",
       "    }\n",
       "</style>\n",
       "<table border=\"1\" class=\"dataframe\">\n",
       "  <thead>\n",
       "    <tr style=\"text-align: right;\">\n",
       "      <th></th>\n",
       "      <th>func</th>\n",
       "      <th>time</th>\n",
       "    </tr>\n",
       "  </thead>\n",
       "  <tbody>\n",
       "    <tr>\n",
       "      <th>0</th>\n",
       "      <td>gd_class</td>\n",
       "      <td>1.070000e-07</td>\n",
       "    </tr>\n",
       "  </tbody>\n",
       "</table>\n",
       "</div>"
      ],
      "text/plain": [
       "       func          time\n",
       "0  gd_class  1.070000e-07"
      ]
     },
     "execution_count": 64,
     "metadata": {},
     "output_type": "execute_result"
    }
   ],
   "source": [
    "data_framed(time_class)[:1]"
   ]
  },
  {
   "cell_type": "markdown",
   "id": "f219e5eb",
   "metadata": {},
   "source": [
    ">**Вывод**\n",
    ">\n",
    ">Ускоренные с помощью `numba` функции показали лучшее время работы по показателям скорости, чем исходные. В целом результаты находятся в одном диапазоне, однако заметно значительное ускорение работы некоторых функций относительно исходного набора данных."
   ]
  },
  {
   "cell_type": "markdown",
   "id": "19b945fb",
   "metadata": {},
   "source": [
    "Выведение на экран сводной таблицы полученных вычислений алгоритмов оптимизации:"
   ]
  },
  {
   "cell_type": "code",
   "execution_count": 65,
   "id": "3948b4e4",
   "metadata": {},
   "outputs": [
    {
     "data": {
      "text/html": [
       "<div>\n",
       "<style scoped>\n",
       "    .dataframe tbody tr th:only-of-type {\n",
       "        vertical-align: middle;\n",
       "    }\n",
       "\n",
       "    .dataframe tbody tr th {\n",
       "        vertical-align: top;\n",
       "    }\n",
       "\n",
       "    .dataframe thead th {\n",
       "        text-align: right;\n",
       "    }\n",
       "</style>\n",
       "<table border=\"1\" class=\"dataframe\">\n",
       "  <thead>\n",
       "    <tr style=\"text-align: right;\">\n",
       "      <th></th>\n",
       "      <th>func</th>\n",
       "      <th>time_numba</th>\n",
       "      <th>time_initial</th>\n",
       "    </tr>\n",
       "  </thead>\n",
       "  <tbody>\n",
       "    <tr>\n",
       "      <th>0</th>\n",
       "      <td>adam_gradient</td>\n",
       "      <td>1.100000e-07</td>\n",
       "      <td>1.270000e-07</td>\n",
       "    </tr>\n",
       "    <tr>\n",
       "      <th>1</th>\n",
       "      <td>adam_stochastic</td>\n",
       "      <td>1.230000e-07</td>\n",
       "      <td>1.560000e-07</td>\n",
       "    </tr>\n",
       "    <tr>\n",
       "      <th>2</th>\n",
       "      <td>adam_minibatch</td>\n",
       "      <td>1.210000e-07</td>\n",
       "      <td>1.230000e-07</td>\n",
       "    </tr>\n",
       "    <tr>\n",
       "      <th>3</th>\n",
       "      <td>momentum_gradient</td>\n",
       "      <td>1.120000e-07</td>\n",
       "      <td>1.270000e-07</td>\n",
       "    </tr>\n",
       "    <tr>\n",
       "      <th>4</th>\n",
       "      <td>momentum_stochastic</td>\n",
       "      <td>1.640000e-07</td>\n",
       "      <td>1.180000e-07</td>\n",
       "    </tr>\n",
       "    <tr>\n",
       "      <th>5</th>\n",
       "      <td>momentum_minibatch</td>\n",
       "      <td>1.200000e-07</td>\n",
       "      <td>1.130000e-07</td>\n",
       "    </tr>\n",
       "  </tbody>\n",
       "</table>\n",
       "</div>"
      ],
      "text/plain": [
       "                  func    time_numba  time_initial\n",
       "0        adam_gradient  1.100000e-07  1.270000e-07\n",
       "1      adam_stochastic  1.230000e-07  1.560000e-07\n",
       "2       adam_minibatch  1.210000e-07  1.230000e-07\n",
       "3    momentum_gradient  1.120000e-07  1.270000e-07\n",
       "4  momentum_stochastic  1.640000e-07  1.180000e-07\n",
       "5   momentum_minibatch  1.200000e-07  1.130000e-07"
      ]
     },
     "execution_count": 65,
     "metadata": {},
     "output_type": "execute_result"
    }
   ],
   "source": [
    "data_joined(data_framed(time_comparison_pokemon))[7:].reset_index(drop=True)"
   ]
  },
  {
   "cell_type": "markdown",
   "id": "ce5caa5a",
   "metadata": {},
   "source": [
    "Выведение на экран вычислений формирования класса:"
   ]
  },
  {
   "cell_type": "code",
   "execution_count": 66,
   "id": "a88c4099",
   "metadata": {},
   "outputs": [
    {
     "data": {
      "text/html": [
       "<div>\n",
       "<style scoped>\n",
       "    .dataframe tbody tr th:only-of-type {\n",
       "        vertical-align: middle;\n",
       "    }\n",
       "\n",
       "    .dataframe tbody tr th {\n",
       "        vertical-align: top;\n",
       "    }\n",
       "\n",
       "    .dataframe thead th {\n",
       "        text-align: right;\n",
       "    }\n",
       "</style>\n",
       "<table border=\"1\" class=\"dataframe\">\n",
       "  <thead>\n",
       "    <tr style=\"text-align: right;\">\n",
       "      <th></th>\n",
       "      <th>func</th>\n",
       "      <th>time</th>\n",
       "    </tr>\n",
       "  </thead>\n",
       "  <tbody>\n",
       "    <tr>\n",
       "      <th>1</th>\n",
       "      <td>optim_class_grads</td>\n",
       "      <td>1.210000e-07</td>\n",
       "    </tr>\n",
       "    <tr>\n",
       "      <th>2</th>\n",
       "      <td>optim_class_stochastic</td>\n",
       "      <td>1.180000e-07</td>\n",
       "    </tr>\n",
       "    <tr>\n",
       "      <th>3</th>\n",
       "      <td>optim_class_minibatch</td>\n",
       "      <td>1.210000e-07</td>\n",
       "    </tr>\n",
       "  </tbody>\n",
       "</table>\n",
       "</div>"
      ],
      "text/plain": [
       "                     func          time\n",
       "1       optim_class_grads  1.210000e-07\n",
       "2  optim_class_stochastic  1.180000e-07\n",
       "3   optim_class_minibatch  1.210000e-07"
      ]
     },
     "execution_count": 66,
     "metadata": {},
     "output_type": "execute_result"
    }
   ],
   "source": [
    "data_framed(time_class)[1:]"
   ]
  },
  {
   "cell_type": "markdown",
   "id": "7fa263f2",
   "metadata": {},
   "source": [
    ">**Вывод**\n",
    ">\n",
    ">Ускоренный с помощью `numba` алгоритм оптимизации ADAM показал хорошую скорость выполнения относительно показателей скорости исходного алгоритма. Однако результаты моментного метода по одному из показателей проявили себя хуже, наоборот увеличив время выполнения."
   ]
  },
  {
   "cell_type": "markdown",
   "id": "641ae500",
   "metadata": {},
   "source": [
    "<div style=\"text-align: center; font-size: 20px; padding: 15px 0;\">\n",
    "    <a href=\"#Содержание\" data-toc-modified-id=\"Содержание\" style=\"text-decoration: none; color: #296eaa; border: 2px dashed #296eaa; opacity: 0.8; border-radius: 3px; padding: 10px 80px;\">\n",
    "        Наверх к содержанию ↑\n",
    "    </a>\n",
    "</div>"
   ]
  }
 ],
 "metadata": {
  "kernelspec": {
   "display_name": "Python 3 (ipykernel)",
   "language": "python",
   "name": "python3"
  },
  "language_info": {
   "codemirror_mode": {
    "name": "ipython",
    "version": 3
   },
   "file_extension": ".py",
   "mimetype": "text/x-python",
   "name": "python",
   "nbconvert_exporter": "python",
   "pygments_lexer": "ipython3",
   "version": "3.9.6"
  }
 },
 "nbformat": 4,
 "nbformat_minor": 5
}
