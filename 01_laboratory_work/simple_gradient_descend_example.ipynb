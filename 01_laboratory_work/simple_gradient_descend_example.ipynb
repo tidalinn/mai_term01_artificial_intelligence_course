{
 "cells": [
  {
   "cell_type": "code",
   "execution_count": null,
   "metadata": {},
   "outputs": [],
   "source": [
    "import numpy as np\n",
    "from typing import Tuple, Mapping\n",
    "import matplotlib.pyplot as plt"
   ]
  },
  {
   "cell_type": "markdown",
   "metadata": {},
   "source": [
    "Написать свой градиентный спуск"
   ]
  },
  {
   "cell_type": "code",
   "execution_count": 23,
   "metadata": {},
   "outputs": [],
   "source": [
    "def my_GD(f: Mapping, df: Mapping, x0: np.ndarray, lr: float = 0.01, T: int = 100) -> Tuple [np.ndarray, np.float32]:\n",
    "    \"\"\"Простая реализаия градиентного спуска.\n",
    "\n",
    "    Args:\n",
    "        f (Mapping): функционал для оптимизации\n",
    "        df (Mapping): градиент оптимизируемого функционаала\n",
    "        x0 (np.ndarray): стартовая точка\n",
    "        lr (float): скорость обучения (Default = 0.01)\n",
    "        T (int): количество итераций\n",
    "\n",
    "    Returns:\n",
    "        Tuple [np.ndarray, np.float32]: (x_optimal, f(x_optimal))\n",
    "    \"\"\"\n",
    "\n",
    "    # определить, сколько будет шагов\n",
    "    param = 100\n",
    "    x_old = x0.copy() # чтобы не затереть\n",
    "\n",
    "    for i in range(param):\n",
    "        x_new = x_old - lr * df(x_old)\n",
    "        x_old = x_new\n",
    "    \n",
    "    return x_new, f(x_new)"
   ]
  },
  {
   "cell_type": "code",
   "execution_count": 16,
   "metadata": {},
   "outputs": [],
   "source": [
    "def test_func_01(x: np.ndarray) -> np.float64:\n",
    "    \"\"\"Тестовая функция многомерного параболоида\n",
    "\n",
    "    Args:\n",
    "        x (np.ndarray): аргумент\n",
    "\n",
    "    Returns:\n",
    "        np.float64: сумма квадратов координат аргумента\n",
    "    \"\"\"\n",
    "    return np.sum(np.square(x))"
   ]
  },
  {
   "cell_type": "code",
   "execution_count": 15,
   "metadata": {},
   "outputs": [
    {
     "data": {
      "text/plain": [
       "8"
      ]
     },
     "execution_count": 15,
     "metadata": {},
     "output_type": "execute_result"
    }
   ],
   "source": [
    "test_func_01(np.array([2, 2]))"
   ]
  },
  {
   "cell_type": "code",
   "execution_count": 18,
   "metadata": {},
   "outputs": [],
   "source": [
    "def test_func_01_grad(x: np.ndarray) -> np.float64:\n",
    "\n",
    "    # grad f(x)  [vector] = df/dx1; df/dx2; ... ; df/dxn\n",
    "    return 2 * x"
   ]
  },
  {
   "cell_type": "code",
   "execution_count": 21,
   "metadata": {},
   "outputs": [
    {
     "data": {
      "text/plain": [
       "(array([13.26195559, 13.26195559]), 351.7589321144315)"
      ]
     },
     "execution_count": 21,
     "metadata": {},
     "output_type": "execute_result"
    }
   ],
   "source": [
    "# не успеи дошагать\n",
    "my_GD(test_func_01, test_func_01_grad, np.array([100, 100]), T=3500)"
   ]
  },
  {
   "cell_type": "code",
   "execution_count": null,
   "metadata": {},
   "outputs": [],
   "source": []
  }
 ],
 "metadata": {
  "kernelspec": {
   "display_name": "Python 3.9.7 ('base')",
   "language": "python",
   "name": "python3"
  },
  "language_info": {
   "codemirror_mode": {
    "name": "ipython",
    "version": 3
   },
   "file_extension": ".py",
   "mimetype": "text/x-python",
   "name": "python",
   "nbconvert_exporter": "python",
   "pygments_lexer": "ipython3",
   "version": "3.9.7"
  },
  "orig_nbformat": 4,
  "vscode": {
   "interpreter": {
    "hash": "1a2a30c3546c26b196ca13320ca154321d3c7ddf15225431c25ddbdf7ba8fe64"
   }
  }
 },
 "nbformat": 4,
 "nbformat_minor": 2
}
