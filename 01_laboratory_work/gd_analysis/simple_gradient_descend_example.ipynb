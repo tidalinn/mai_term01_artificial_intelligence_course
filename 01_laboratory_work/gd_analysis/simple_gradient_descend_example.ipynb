{
 "cells": [
  {
   "cell_type": "markdown",
   "metadata": {},
   "source": [
    "\\* Образец разобран на семинаре."
   ]
  },
  {
   "cell_type": "code",
   "execution_count": 1,
   "metadata": {},
   "outputs": [],
   "source": [
    "import numpy as np\n",
    "from typing import Tuple, Mapping\n",
    "import matplotlib.pyplot as plt"
   ]
  },
  {
   "cell_type": "code",
   "execution_count": 11,
   "metadata": {},
   "outputs": [],
   "source": [
    "def my_GD(f: Mapping, df: Mapping, x0: np.ndarray, lr: float = 0.01, T: int = 100) -> Tuple [np.ndarray, np.float32]:\n",
    "    \"\"\"Простая реализаия градиентного спуска.\n",
    "\n",
    "    Args:\n",
    "        f (Mapping): функционал для оптимизации\n",
    "        df (Mapping): градиент оптимизируемого функционаала\n",
    "        x0 (np.ndarray): стартовая точка\n",
    "        lr (float): скорость обучения (Default = 0.01)\n",
    "        T (int): количество итераций (Default = 100)\n",
    "\n",
    "    Returns:\n",
    "        Tuple [np.ndarray, np.float32]: (x_optimal, f(x_optimal))\n",
    "    \"\"\"\n",
    "\n",
    "    # определить, сколько будет шагов\n",
    "    x_old = x0.copy() # чтобы не затереть\n",
    "\n",
    "    for i in range(T):\n",
    "        x_new = x_old - lr * df(x_old)\n",
    "        x_old = x_new\n",
    "    \n",
    "    return x_new, f(x_new)"
   ]
  },
  {
   "cell_type": "code",
   "execution_count": 9,
   "metadata": {},
   "outputs": [],
   "source": [
    "def test_func_01(x: np.ndarray) -> np.float64:\n",
    "    \"\"\"Тестовая функция многомерного параболоида\n",
    "\n",
    "    Args:\n",
    "        x (np.ndarray): аргумент\n",
    "\n",
    "    Returns:\n",
    "        np.float64: сумма квадратов координат аргумента\n",
    "    \"\"\"\n",
    "    \n",
    "    return np.sum(np.square(x))"
   ]
  },
  {
   "cell_type": "code",
   "execution_count": 10,
   "metadata": {},
   "outputs": [
    {
     "data": {
      "text/plain": [
       "8"
      ]
     },
     "execution_count": 10,
     "metadata": {},
     "output_type": "execute_result"
    }
   ],
   "source": [
    "test_func_01(np.array([2, 2]))"
   ]
  },
  {
   "cell_type": "code",
   "execution_count": 5,
   "metadata": {},
   "outputs": [],
   "source": [
    "def test_func_01_grad(x: np.ndarray) -> np.float64:\n",
    "    \"\"\"_summary_\n",
    "\n",
    "    Args:\n",
    "        x (np.ndarray): аргумент\n",
    "\n",
    "    Returns:\n",
    "        np.float64: результат выполнения линейной функции\n",
    "    \"\"\"\n",
    "\n",
    "    # grad f(x)  [vector] = df/dx1; df/dx2; ... ; df/dxn\n",
    "    return 2 * x"
   ]
  },
  {
   "cell_type": "code",
   "execution_count": 12,
   "metadata": {},
   "outputs": [
    {
     "data": {
      "text/plain": [
       "(array([13.26195559, 13.26195559]), 351.7589321144315)"
      ]
     },
     "execution_count": 12,
     "metadata": {},
     "output_type": "execute_result"
    }
   ],
   "source": [
    "# не успели дошагать\n",
    "my_GD(test_func_01, test_func_01_grad, np.array([100, 100]))"
   ]
  },
  {
   "cell_type": "code",
   "execution_count": 13,
   "metadata": {},
   "outputs": [
    {
     "data": {
      "text/plain": [
       "(array([1.95553198e-29, 1.95553198e-29]), 7.648210688518753e-58)"
      ]
     },
     "execution_count": 13,
     "metadata": {},
     "output_type": "execute_result"
    }
   ],
   "source": [
    "my_GD(test_func_01, test_func_01_grad, np.array([100, 100]), T=3500)"
   ]
  }
 ],
 "metadata": {
  "kernelspec": {
   "display_name": "Python 3.9.7 ('base')",
   "language": "python",
   "name": "python3"
  },
  "language_info": {
   "codemirror_mode": {
    "name": "ipython",
    "version": 3
   },
   "file_extension": ".py",
   "mimetype": "text/x-python",
   "name": "python",
   "nbconvert_exporter": "python",
   "pygments_lexer": "ipython3",
   "version": "3.9.7"
  },
  "orig_nbformat": 4,
  "vscode": {
   "interpreter": {
    "hash": "1a2a30c3546c26b196ca13320ca154321d3c7ddf15225431c25ddbdf7ba8fe64"
   }
  }
 },
 "nbformat": 4,
 "nbformat_minor": 2
}
